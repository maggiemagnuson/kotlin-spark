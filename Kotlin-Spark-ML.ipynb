{
 "cells": [
  {
   "cell_type": "code",
   "execution_count": 2,
   "metadata": {},
   "outputs": [],
   "source": [
    "%output --no-stdout"
   ]
  },
  {
   "cell_type": "code",
   "execution_count": 3,
   "metadata": {},
   "outputs": [],
   "source": [
    "@file:Repository(\"https://binrepo.target.com/artifactory/gradle\")\n",
    "@file:Repository(\"https://binrepo.target.com/artifactory/maven-central\")\n",
    "@file:Repository(\"https://binrepo.target.com/artifactory/jcenter\")\n",
    "@file:Repository(\"https://binrepo.target.com/artifactory/jitpack-maven\")\n",
    "@file:Repository(\"https://binrepo.target.com/artifactory/kotlin-maven\")\n",
    "@file:Repository(\"https://binrepo.target.com/artifactory/apache-maven\")\n",
    "@file:Repository(\"https://binrepo.target.com/artifactory/jitpack\")\n",
    "%use spark"
   ]
  },
  {
   "cell_type": "code",
   "execution_count": 4,
   "metadata": {},
   "outputs": [],
   "source": [
    "%output --reset-to-defaults\n",
    "@file:DependsOn(\"org.jetbrains.kotlinx.spark:kotlin-spark-api-3.0.0_2.12:1.0.0-preview1\")"
   ]
  },
  {
   "cell_type": "code",
   "execution_count": 41,
   "metadata": {},
   "outputs": [],
   "source": [
    "import org.jetbrains.kotlinx.spark.api.*\n",
    "import org.apache.spark.sql.functions.*\n",
    "import org.apache.spark.ml.evaluation.RegressionEvaluator\n",
    "import org.apache.spark.ml.recommendation.ALS\n",
    "import org.apache.spark.ml.tuning.CrossValidator\n",
    "import org.apache.spark.ml.tuning.ParamGridBuilder"
   ]
  },
  {
   "cell_type": "code",
   "execution_count": 6,
   "metadata": {},
   "outputs": [],
   "source": [
    "val ratingFile = \"data/ml-latest/ratings.csv\"\n",
    "val movieFile = \"data/ml-latest/movies.csv\"\n",
    "val linkFile = \"data/ml-latest/links.csv\"\n",
    "val tagFile = \"data/ml-latest/tags.csv\""
   ]
  },
  {
   "cell_type": "code",
   "execution_count": 7,
   "metadata": {},
   "outputs": [],
   "source": [
    "val spark = SparkSession\n",
    ".builder()\n",
    ".master(\"local[*]\")\n",
    ".appName(\"SparkMl\").orCreate"
   ]
  },
  {
   "cell_type": "code",
   "execution_count": 14,
   "metadata": {},
   "outputs": [],
   "source": [
    "val ratings = spark\n",
    "        .read()\n",
    "        .option(\"header\", \"true\")\n",
    "        .option(\"inferSchema\", \"true\")\n",
    "        .csv(ratingFile)\n",
    "        .drop(\"timestamp\")\n",
    "        .cache()\n",
    "        "
   ]
  },
  {
   "cell_type": "code",
   "execution_count": 15,
   "metadata": {},
   "outputs": [
    {
     "name": "stdout",
     "output_type": "stream",
     "text": [
      "+------+-------+------+\n",
      "|userId|movieId|rating|\n",
      "+------+-------+------+\n",
      "|     1|    307|   3.5|\n",
      "|     1|    481|   3.5|\n",
      "|     1|   1091|   1.5|\n",
      "|     1|   1257|   4.5|\n",
      "|     1|   1449|   4.5|\n",
      "|     1|   1590|   2.5|\n",
      "|     1|   1591|   1.5|\n",
      "|     1|   2134|   4.5|\n",
      "|     1|   2478|   4.0|\n",
      "|     1|   2840|   3.0|\n",
      "|     1|   2986|   2.5|\n",
      "|     1|   3020|   4.0|\n",
      "|     1|   3424|   4.5|\n",
      "|     1|   3698|   3.5|\n",
      "|     1|   3826|   2.0|\n",
      "|     1|   3893|   3.5|\n",
      "|     2|    170|   3.5|\n",
      "|     2|    849|   3.5|\n",
      "|     2|   1186|   3.5|\n",
      "|     2|   1235|   3.0|\n",
      "+------+-------+------+\n",
      "only showing top 20 rows\n",
      "\n"
     ]
    }
   ],
   "source": [
    "ratings.show()"
   ]
  },
  {
   "cell_type": "code",
   "execution_count": 16,
   "metadata": {},
   "outputs": [
    {
     "name": "stdout",
     "output_type": "stream",
     "text": [
      "root\n",
      " |-- userId: integer (nullable = true)\n",
      " |-- movieId: integer (nullable = true)\n",
      " |-- rating: double (nullable = true)\n",
      "\n"
     ]
    }
   ],
   "source": [
    "ratings.printSchema()"
   ]
  },
  {
   "cell_type": "code",
   "execution_count": 12,
   "metadata": {},
   "outputs": [
    {
     "name": "stdout",
     "output_type": "stream",
     "text": [
      "+-------+------------------+-----------------+------------------+\n",
      "|summary|            userId|          movieId|            rating|\n",
      "+-------+------------------+-----------------+------------------+\n",
      "|  count|          27753444|         27753444|          27753444|\n",
      "|   mean|141942.01557064414|18487.99983414671|3.5304452124932677|\n",
      "| stddev| 81707.40009148984| 35102.6252474677|1.0663527502319696|\n",
      "|    min|                 1|                1|               0.5|\n",
      "|    25%|             71164|             1099|               3.0|\n",
      "|    50%|            142014|             2716|               3.5|\n",
      "|    75%|            212447|             7151|               4.0|\n",
      "|    max|            283228|           193886|               5.0|\n",
      "+-------+------------------+-----------------+------------------+\n",
      "\n"
     ]
    }
   ],
   "source": [
    "ratings.summary().show()"
   ]
  },
  {
   "cell_type": "code",
   "execution_count": 20,
   "metadata": {},
   "outputs": [],
   "source": [
    "val als = ALS()\n",
    "    .setUserCol(\"userId\")\n",
    "    .setRatingCol(\"rating\")\n",
    "    .setItemCol(\"movieId\")\n",
    "    \n",
    "val model = als.fit(ratings)"
   ]
  },
  {
   "cell_type": "code",
   "execution_count": 21,
   "metadata": {},
   "outputs": [],
   "source": [
    "val predictions = model.transform(ratings)"
   ]
  },
  {
   "cell_type": "code",
   "execution_count": 23,
   "metadata": {},
   "outputs": [
    {
     "name": "stdout",
     "output_type": "stream",
     "text": [
      "+------+-------+------+----------+\n",
      "|userId|movieId|rating|prediction|\n",
      "+------+-------+------+----------+\n",
      "|107339|148    |4.0   |3.3621397 |\n",
      "|93112 |148    |3.0   |2.9129353 |\n",
      "|106148|148    |2.5   |2.8071108 |\n",
      "|234926|148    |4.0   |2.945117  |\n",
      "|253535|148    |4.0   |2.991361  |\n",
      "|50155 |148    |3.0   |3.0100925 |\n",
      "|65991 |148    |4.0   |3.0302284 |\n",
      "|146376|148    |5.0   |3.6678638 |\n",
      "|207939|148    |3.0   |2.6889248 |\n",
      "|41788 |148    |3.0   |2.760429  |\n",
      "+------+-------+------+----------+\n",
      "only showing top 10 rows\n",
      "\n"
     ]
    }
   ],
   "source": [
    "predictions.show(10, false)"
   ]
  },
  {
   "cell_type": "code",
   "execution_count": 24,
   "metadata": {},
   "outputs": [],
   "source": [
    "val evaluator = RegressionEvaluator()\n",
    "    .setMetricName(\"rmse\")\n",
    "    .setLabelCol(\"rating\")\n",
    "    .setPredictionCol(\"prediction\")"
   ]
  },
  {
   "cell_type": "code",
   "execution_count": 25,
   "metadata": {},
   "outputs": [],
   "source": [
    "val rmse = evaluator.evaluate(predictions)"
   ]
  },
  {
   "cell_type": "code",
   "execution_count": 26,
   "metadata": {},
   "outputs": [
    {
     "data": {
      "text/plain": [
       "0.773457379850624"
      ]
     },
     "execution_count": 26,
     "metadata": {
      "new_classpath": []
     },
     "output_type": "execute_result"
    }
   ],
   "source": [
    "rmse"
   ]
  },
  {
   "cell_type": "code",
   "execution_count": 28,
   "metadata": {},
   "outputs": [],
   "source": [
    "val (trainingData, validationData) = ratings.randomSplit(doubleArrayOf(8.0, 2.0))"
   ]
  },
  {
   "cell_type": "code",
   "execution_count": 30,
   "metadata": {},
   "outputs": [
    {
     "name": "stdout",
     "output_type": "stream",
     "text": [
      "22201630\n",
      "5551814\n"
     ]
    }
   ],
   "source": [
    "println(trainingData.count())\n",
    "println(validationData.count())"
   ]
  },
  {
   "cell_type": "code",
   "execution_count": 31,
   "metadata": {},
   "outputs": [
    {
     "data": {
      "text/plain": [
       "27753444"
      ]
     },
     "execution_count": 31,
     "metadata": {
      "new_classpath": []
     },
     "output_type": "execute_result"
    }
   ],
   "source": [
    "ratings.count()"
   ]
  },
  {
   "cell_type": "code",
   "execution_count": 32,
   "metadata": {},
   "outputs": [],
   "source": [
    "val model = als.fit(trainingData)"
   ]
  },
  {
   "cell_type": "code",
   "execution_count": 36,
   "metadata": {},
   "outputs": [],
   "source": [
    "val predictions = model.transform(validationData)"
   ]
  },
  {
   "cell_type": "code",
   "execution_count": 39,
   "metadata": {},
   "outputs": [],
   "source": [
    "val rmse = evaluator.evaluate(predictions.na().drop())"
   ]
  },
  {
   "cell_type": "code",
   "execution_count": 40,
   "metadata": {},
   "outputs": [
    {
     "data": {
      "text/plain": [
       "0.8140429426510024"
      ]
     },
     "execution_count": 40,
     "metadata": {
      "new_classpath": []
     },
     "output_type": "execute_result"
    }
   ],
   "source": [
    "rmse"
   ]
  },
  {
   "cell_type": "code",
   "execution_count": 42,
   "metadata": {},
   "outputs": [],
   "source": [
    "val parameterGrid = ParamGridBuilder()\n",
    "    .addGrid(als.rank(), intArrayOf(1,5,10))\n",
    "    .addGrid(als.maxIter(), intArrayOf(20))\n",
    "    .addGrid(als.regParam(), doubleArrayOf(0.05, 0.1))\n",
    "    .build()"
   ]
  },
  {
   "cell_type": "code",
   "execution_count": 43,
   "metadata": {},
   "outputs": [
    {
     "data": {
      "text/plain": [
       "[Lorg.apache.spark.ml.param.ParamMap;"
      ]
     },
     "execution_count": 43,
     "metadata": {
      "new_classpath": []
     },
     "output_type": "execute_result"
    }
   ],
   "source": [
    "parameterGrid.javaClass.name"
   ]
  },
  {
   "cell_type": "code",
   "execution_count": 46,
   "metadata": {},
   "outputs": [
    {
     "data": {
      "text/plain": [
       "[{\n",
       "\tals_a93d71366e31-maxIter: 20,\n",
       "\tals_a93d71366e31-rank: 1,\n",
       "\tals_a93d71366e31-regParam: 0.05\n",
       "}, {\n",
       "\tals_a93d71366e31-maxIter: 20,\n",
       "\tals_a93d71366e31-rank: 5,\n",
       "\tals_a93d71366e31-regParam: 0.05\n",
       "}, {\n",
       "\tals_a93d71366e31-maxIter: 20,\n",
       "\tals_a93d71366e31-rank: 10,\n",
       "\tals_a93d71366e31-regParam: 0.05\n",
       "}, {\n",
       "\tals_a93d71366e31-maxIter: 20,\n",
       "\tals_a93d71366e31-rank: 1,\n",
       "\tals_a93d71366e31-regParam: 0.1\n",
       "}, {\n",
       "\tals_a93d71366e31-maxIter: 20,\n",
       "\tals_a93d71366e31-rank: 5,\n",
       "\tals_a93d71366e31-regParam: 0.1\n",
       "}, {\n",
       "\tals_a93d71366e31-maxIter: 20,\n",
       "\tals_a93d71366e31-rank: 10,\n",
       "\tals_a93d71366e31-regParam: 0.1\n",
       "}]"
      ]
     },
     "execution_count": 46,
     "metadata": {
      "new_classpath": []
     },
     "output_type": "execute_result"
    }
   ],
   "source": [
    "parameterGrid.contentToString()"
   ]
  },
  {
   "cell_type": "code",
   "execution_count": 47,
   "metadata": {},
   "outputs": [],
   "source": [
    "val crossValidator = CrossValidator().setEstimator(als)\n",
    ".setEstimatorParamMaps(parameterGrid)\n",
    ".setEvaluator(evaluator)\n",
    ".setNumFolds(2)"
   ]
  },
  {
   "cell_type": "code",
   "execution_count": 48,
   "metadata": {},
   "outputs": [],
   "source": [
    "val crossValidatedModel = crossValidator.fit(trainingData)"
   ]
  },
  {
   "cell_type": "code",
   "execution_count": 49,
   "metadata": {},
   "outputs": [],
   "source": [
    "val predictions = crossValidatedModel.transform(validationData)"
   ]
  },
  {
   "cell_type": "code",
   "execution_count": 50,
   "metadata": {},
   "outputs": [
    {
     "data": {
      "text/plain": [
       "0.874035007571565"
      ]
     },
     "execution_count": 50,
     "metadata": {
      "new_classpath": []
     },
     "output_type": "execute_result"
    }
   ],
   "source": [
    "val rmse = evaluator.evaluate(predictions.na().drop())\n",
    "rmse"
   ]
  },
  {
   "cell_type": "code",
   "execution_count": 51,
   "metadata": {},
   "outputs": [],
   "source": [
    "val model = crossValidatedModel.bestModel()"
   ]
  },
  {
   "cell_type": "code",
   "execution_count": 78,
   "metadata": {},
   "outputs": [
    {
     "data": {
      "text/plain": [
       "{\n",
       "\tals_a93d71366e31-alpha: 1.0,\n",
       "\tals_a93d71366e31-checkpointInterval: 10,\n",
       "\tals_a93d71366e31-coldStartStrategy: nan,\n",
       "\tals_a93d71366e31-finalStorageLevel: MEMORY_AND_DISK,\n",
       "\tals_a93d71366e31-implicitPrefs: false,\n",
       "\tals_a93d71366e31-intermediateStorageLevel: MEMORY_AND_DISK,\n",
       "\tals_a93d71366e31-itemCol: movieId,\n",
       "\tals_a93d71366e31-maxIter: 20,\n",
       "\tals_a93d71366e31-nonnegative: false,\n",
       "\tals_a93d71366e31-numItemBlocks: 10,\n",
       "\tals_a93d71366e31-numUserBlocks: 10,\n",
       "\tals_a93d71366e31-predictionCol: prediction,\n",
       "\tals_a93d71366e31-rank: 1,\n",
       "\tals_a93d71366e31-ratingCol: rating,\n",
       "\tals_a93d71366e31-regParam: 0.05,\n",
       "\tals_a93d71366e31-seed: 1994790107,\n",
       "\tals_a93d71366e31-userCol: userId\n",
       "}"
      ]
     },
     "execution_count": 78,
     "metadata": {
      "new_classpath": []
     },
     "output_type": "execute_result"
    }
   ],
   "source": [
    "model.parent().extractParamMap()"
   ]
  },
  {
   "cell_type": "code",
   "execution_count": null,
   "metadata": {},
   "outputs": [],
   "source": []
  }
 ],
 "metadata": {
  "kernelspec": {
   "display_name": "Kotlin",
   "language": "kotlin",
   "name": "kotlin"
  },
  "language_info": {
   "codemirror_mode": "text/x-kotlin",
   "file_extension": ".kt",
   "mimetype": "text/x-kotlin",
   "name": "kotlin",
   "pygments_lexer": "kotlin",
   "version": "1.5.0-dev-1206"
  }
 },
 "nbformat": 4,
 "nbformat_minor": 4
}

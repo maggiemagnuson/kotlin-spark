{
 "cells": [
  {
   "cell_type": "code",
   "execution_count": 1,
   "metadata": {},
   "outputs": [],
   "source": [
    "%output --no-stdout"
   ]
  },
  {
   "cell_type": "code",
   "execution_count": 2,
   "metadata": {},
   "outputs": [],
   "source": [
    "@file:Repository(\"https://binrepo.target.com/artifactory/gradle\")\n",
    "@file:Repository(\"https://binrepo.target.com/artifactory/maven-central\")\n",
    "@file:Repository(\"https://binrepo.target.com/artifactory/jcenter\")\n",
    "@file:Repository(\"https://binrepo.target.com/artifactory/jitpack-maven\")\n",
    "@file:Repository(\"https://binrepo.target.com/artifactory/kotlin-maven\")\n",
    "@file:Repository(\"https://binrepo.target.com/artifactory/apache-maven\")\n",
    "@file:Repository(\"https://binrepo.target.com/artifactory/jitpack\")\n",
    "%use spark"
   ]
  },
  {
   "cell_type": "code",
   "execution_count": 3,
   "metadata": {},
   "outputs": [],
   "source": [
    "%output --reset-to-defaults\n",
    "@file:DependsOn(\"org.jetbrains.kotlinx.spark:kotlin-spark-api-3.0.0_2.12:1.0.0-preview1\")"
   ]
  },
  {
   "cell_type": "code",
   "execution_count": 4,
   "metadata": {},
   "outputs": [],
   "source": [
    "import org.jetbrains.kotlinx.spark.api.*\n",
    "import org.apache.spark.sql.functions.*\n",
    "import org.apache.spark.ml.evaluation.RegressionEvaluator\n",
    "import org.apache.spark.ml.recommendation.ALS\n",
    "import org.apache.spark.ml.tuning.CrossValidator\n",
    "import org.apache.spark.ml.tuning.ParamGridBuilder\n",
    "import org.apache.spark.ml.recommendation.ALSModel"
   ]
  },
  {
   "cell_type": "code",
   "execution_count": 5,
   "metadata": {},
   "outputs": [],
   "source": [
    "val ratingFile = \"data/ml-latest-small/ratings.csv\"\n",
    "val movieFile = \"data/ml-latest-small/movies.csv\"\n",
    "val linkFile = \"data/ml-latest-small/links.csv\"\n",
    "val tagFile = \"data/ml-latest-small/tags.csv\""
   ]
  },
  {
   "cell_type": "code",
   "execution_count": 6,
   "metadata": {},
   "outputs": [],
   "source": [
    "val spark = SparkSession\n",
    ".builder()\n",
    ".master(\"local[*]\")\n",
    ".appName(\"Recommender\").orCreate"
   ]
  },
  {
   "cell_type": "code",
   "execution_count": 99,
   "metadata": {},
   "outputs": [],
   "source": [
    "val ratings = spark\n",
    "        .read()\n",
    "        .option(\"header\", \"true\")\n",
    "        .option(\"inferSchema\", \"true\")\n",
    "        .csv(ratingFile)"
   ]
  },
  {
   "cell_type": "code",
   "execution_count": 100,
   "metadata": {},
   "outputs": [],
   "source": [
    "val movies = spark\n",
    "        .read()\n",
    "        .option(\"header\", \"true\")\n",
    "        .option(\"inferSchema\", \"true\")\n",
    "        .csv(movieFile)\n",
    "        .withColumn(\"release_year\", regexp_extract(col(\"title\"), \"\\\\s?\\\\((\\\\d{4})\\\\)\", 1))\n",
    "        .withColumn(\"title\", regexp_replace(col(\"title\"), \"\\\\s?\\\\((\\\\d)\\\\)\", \"\"))\n",
    "        .withColumn(\"genres\", split(col(\"genres\"), \"\\\\|\"))"
   ]
  },
  {
   "cell_type": "code",
   "execution_count": 101,
   "metadata": {},
   "outputs": [],
   "source": [
    "val (training, test) = ratings.randomSplit(doubleArrayOf(0.8, 0.2))"
   ]
  },
  {
   "cell_type": "code",
   "execution_count": 102,
   "metadata": {},
   "outputs": [],
   "source": [
    "val als = ALS()\n",
    "    .setMaxIter(5)\n",
    "    .setRegParam(0.01)\n",
    "    .setUserCol(\"userId\")\n",
    "    .setItemCol(\"movieId\")\n",
    "    .setRatingCol(\"rating\")"
   ]
  },
  {
   "cell_type": "code",
   "execution_count": 103,
   "metadata": {},
   "outputs": [],
   "source": [
    "val model = als.fit(training)"
   ]
  },
  {
   "cell_type": "code",
   "execution_count": 104,
   "metadata": {},
   "outputs": [
    {
     "data": {
      "text/plain": [
       "als_c340727be9a9"
      ]
     },
     "execution_count": 104,
     "metadata": {
      "new_classpath": []
     },
     "output_type": "execute_result"
    }
   ],
   "source": [
    "model.setColdStartStrategy(\"drop\")"
   ]
  },
  {
   "cell_type": "code",
   "execution_count": 105,
   "metadata": {},
   "outputs": [],
   "source": [
    "val predictions = model.transform(test)"
   ]
  },
  {
   "cell_type": "code",
   "execution_count": 106,
   "metadata": {},
   "outputs": [],
   "source": [
    "val evaluator = RegressionEvaluator()\n",
    "    .setMetricName(\"rmse\")\n",
    "    .setLabelCol(\"rating\")\n",
    "    .setPredictionCol(\"prediction\")"
   ]
  },
  {
   "cell_type": "code",
   "execution_count": 107,
   "metadata": {},
   "outputs": [],
   "source": [
    "val rmse = evaluator.evaluate(predictions)"
   ]
  },
  {
   "cell_type": "code",
   "execution_count": 108,
   "metadata": {},
   "outputs": [
    {
     "name": "stdout",
     "output_type": "stream",
     "text": [
      "root-mean-square error: 1.0854890520658376\n"
     ]
    }
   ],
   "source": [
    "println(\"root-mean-square error: $rmse\")"
   ]
  },
  {
   "cell_type": "code",
   "execution_count": 60,
   "metadata": {},
   "outputs": [],
   "source": [
    "val userRecs = model.recommendForAllUsers(10)"
   ]
  },
  {
   "cell_type": "code",
   "execution_count": 61,
   "metadata": {},
   "outputs": [],
   "source": [
    "val movieRecs = model.recommendForAllItems(10)"
   ]
  },
  {
   "cell_type": "code",
   "execution_count": 62,
   "metadata": {},
   "outputs": [
    {
     "name": "stdout",
     "output_type": "stream",
     "text": [
      "+------+--------------------+\n",
      "|userId|     recommendations|\n",
      "+------+--------------------+\n",
      "|   471|[[25850, 8.084744...|\n",
      "|   463|[[4649, 6.995293]...|\n",
      "|   496|[[932, 10.834126]...|\n",
      "|   148|[[50601, 6.198351...|\n",
      "|   540|[[8633, 7.160297]...|\n",
      "|   392|[[2126, 13.096552...|\n",
      "|   243|[[2867, 12.202643...|\n",
      "|    31|[[742, 7.3031893]...|\n",
      "|   516|[[232, 9.474438],...|\n",
      "|   580|[[3067, 6.6261635...|\n",
      "|   251|[[8633, 12.470896...|\n",
      "|   451|[[25850, 8.382637...|\n",
      "|    85|[[1254, 6.286975]...|\n",
      "|   137|[[417, 6.7616487]...|\n",
      "|    65|[[932, 6.8192816]...|\n",
      "|   458|[[1254, 8.257918]...|\n",
      "|   481|[[5080, 9.849588]...|\n",
      "|    53|[[535, 10.929663]...|\n",
      "|   255|[[70946, 9.547336...|\n",
      "|   588|[[3618, 6.7405443...|\n",
      "+------+--------------------+\n",
      "only showing top 20 rows\n",
      "\n"
     ]
    }
   ],
   "source": [
    "userRecs.show()"
   ]
  },
  {
   "cell_type": "code",
   "execution_count": 63,
   "metadata": {},
   "outputs": [
    {
     "name": "stdout",
     "output_type": "stream",
     "text": [
      "+-------+--------------------+\n",
      "|movieId|     recommendations|\n",
      "+-------+--------------------+\n",
      "|   1580|[[531, 5.2984786]...|\n",
      "|   4900|[[598, 7.714996],...|\n",
      "|   5300|[[461, 8.937195],...|\n",
      "|   6620|[[531, 8.404721],...|\n",
      "|   7340|[[259, 6.389276],...|\n",
      "|  32460|[[278, 6.8668966]...|\n",
      "|  54190|[[598, 7.388963],...|\n",
      "|    471|[[531, 9.030875],...|\n",
      "|   1591|[[126, 7.994179],...|\n",
      "|   1342|[[77, 8.232385], ...|\n",
      "|   2122|[[399, 10.527672]...|\n",
      "|   2142|[[259, 9.31655], ...|\n",
      "|   7982|[[258, 11.222481]...|\n",
      "|  44022|[[598, 8.375917],...|\n",
      "| 141422|[[295, 4.0579953]...|\n",
      "| 144522|[[120, 4.384484],...|\n",
      "|    833|[[259, 7.3443036]...|\n",
      "|   5803|[[392, 8.139914],...|\n",
      "|   7993|[[393, 5.033613],...|\n",
      "|  76143|[[549, 7.6078835]...|\n",
      "+-------+--------------------+\n",
      "only showing top 20 rows\n",
      "\n"
     ]
    }
   ],
   "source": [
    "movieRecs.show()"
   ]
  },
  {
   "cell_type": "code",
   "execution_count": 25,
   "metadata": {},
   "outputs": [
    {
     "name": "stdout",
     "output_type": "stream",
     "text": [
      "+------+-------+-----------------------------------------------+------------+\n",
      "|userId|movieId|title                                          |release_year|\n",
      "+------+-------+-----------------------------------------------+------------+\n",
      "|485   |5080   |Slackers (2002)                                |2002        |\n",
      "|461   |4941   |Flash Gordon (1980)                            |1980        |\n",
      "|485   |135861 |Ted 2 (2015)                                   |2015        |\n",
      "|461   |89118  |Skin I Live In, The (La piel que habito) (2011)|2011        |\n",
      "|461   |1866   |Big Hit, The (1998)                            |1998        |\n",
      "|461   |46062  |High School Musical (2006)                     |2006        |\n",
      "|81    |86320  |Melancholia (2011)                             |2011        |\n",
      "|461   |25771  |Andalusian Dog, An (Chien andalou, Un) (1929)  |1929        |\n",
      "|461   |26258  |Topo, El (1970)                                |1970        |\n",
      "|485   |2122   |Children of the Corn (1984)                    |1984        |\n",
      "+------+-------+-----------------------------------------------+------------+\n",
      "only showing top 10 rows\n",
      "\n"
     ]
    }
   ],
   "source": [
    "userRecs\n",
    "    .withColumn(\"rec\", explode(col(\"recommendations\")))\n",
    "    .select(col(\"userId\"), col(\"rec.movieId\").alias(\"movieId\"), col(\"rec.rating\").alias(\"rating\"))\n",
    "    .join(movies, \"movieId\")\n",
    "    .orderBy(col(\"rating\").desc())\n",
    "    .select(\"userId\", \"movieId\", \"title\", \"release_year\").show(10, false)"
   ]
  },
  {
   "cell_type": "code",
   "execution_count": 109,
   "metadata": {},
   "outputs": [],
   "source": [
    "val users = ratings.filter(\"userId == 99999\").select(als.getUserCol()).distinct()"
   ]
  },
  {
   "cell_type": "code",
   "execution_count": 110,
   "metadata": {},
   "outputs": [],
   "source": [
    "val userSubsetRecs = model.recommendForUserSubset(users, 10)"
   ]
  },
  {
   "cell_type": "code",
   "execution_count": 111,
   "metadata": {},
   "outputs": [
    {
     "name": "stdout",
     "output_type": "stream",
     "text": [
      "+------+-------+-------------------------------+------------+\n",
      "|userId|movieId|title                          |release_year|\n",
      "+------+-------+-------------------------------+------------+\n",
      "|99999 |4109   |Flowers in the Attic (1987)    |1987        |\n",
      "|99999 |3685   |Prizzi's Honor (1985)          |1985        |\n",
      "|99999 |94677  |Dictator, The (2012)           |2012        |\n",
      "|99999 |117590 |Horrible Bosses 2 (2014)       |2014        |\n",
      "|99999 |7018   |Presumed Innocent (1990)       |1990        |\n",
      "|99999 |5666   |Rules of Attraction, The (2002)|2002        |\n",
      "|99999 |801    |Harriet the Spy (1996)         |1996        |\n",
      "|99999 |104879 |Prisoners (2013)               |2013        |\n",
      "|99999 |4974   |Not Another Teen Movie (2001)  |2001        |\n",
      "|99999 |56145  |Mist, The (2007)               |2007        |\n",
      "+------+-------+-------------------------------+------------+\n",
      "\n"
     ]
    }
   ],
   "source": [
    "userSubsetRecs\n",
    "    .withColumn(\"rec\", explode(col(\"recommendations\")))\n",
    "    .select(col(\"userId\"), col(\"rec.movieId\").alias(\"movieId\"), col(\"rec.rating\").alias(\"rating\"))\n",
    "    .join(movies, \"movieId\")\n",
    "    .orderBy(col(\"rating\").desc())\n",
    "    .select(\"userId\", \"movieId\", \"title\", \"release_year\").orderBy(col(\"userId\")).show(30, false)"
   ]
  },
  {
   "cell_type": "code",
   "execution_count": 98,
   "metadata": {},
   "outputs": [
    {
     "name": "stdout",
     "output_type": "stream",
     "text": [
      "+-------+--------------------+--------------------+------------+\n",
      "|movieId|               title|              genres|release_year|\n",
      "+-------+--------------------+--------------------+------------+\n",
      "|     54|Big Green, The (1...|  [Children, Comedy]|        1995|\n",
      "|     75|    Big Bully (1996)|     [Comedy, Drama]|        1996|\n",
      "|    994|    Big Night (1996)|     [Comedy, Drama]|        1996|\n",
      "|   1216|Big Blue, The (Gr...|[Adventure, Drama...|        1988|\n",
      "|   1284|Big Sleep, The (1...|[Crime, Film-Noir...|        1946|\n",
      "|   1732|Big Lebowski, The...|     [Comedy, Crime]|        1998|\n",
      "|   1827| Big One, The (1997)|[Comedy, Document...|        1997|\n",
      "|   1866| Big Hit, The (1998)|[Action, Comedy, ...|        1998|\n",
      "|   2352|Big Chill, The (1...|     [Comedy, Drama]|        1983|\n",
      "|   2694|    Big Daddy (1999)|            [Comedy]|        1999|\n",
      "|   2797|          Big (1988)|[Comedy, Drama, F...|        1988|\n",
      "|   3240|Big Tease, The (1...|            [Comedy]|        1999|\n",
      "|   3368|Big Country, The ...|  [Romance, Western]|        1958|\n",
      "|   3566|Big Kahuna, The (...|     [Comedy, Drama]|        2000|\n",
      "|   3646|Big Momma's House...|            [Comedy]|        2000|\n",
      "|   3740|Big Trouble in Li...|[Action, Adventur...|        1986|\n",
      "|   4086|Big Easy, The (1987)|[Action, Crime, M...|        1987|\n",
      "|   4342|     Big Eden (2000)|    [Drama, Romance]|        2000|\n",
      "|   4395|Big Deal on Madon...|     [Comedy, Crime]|        1958|\n",
      "|   4440|Big Boss, The (Fi...|  [Action, Thriller]|        1971|\n",
      "+-------+--------------------+--------------------+------------+\n",
      "only showing top 20 rows\n",
      "\n"
     ]
    }
   ],
   "source": [
    "movies.filter(col(\"title\").like(\"Big%\")).show()"
   ]
  },
  {
   "cell_type": "code",
   "execution_count": 36,
   "metadata": {},
   "outputs": [
    {
     "name": "stdout",
     "output_type": "stream",
     "text": [
      "+------+-------+------+---------+\n",
      "|userId|movieId|rating|timestamp|\n",
      "+------+-------+------+---------+\n",
      "|     1|      1|   4.0|964982703|\n",
      "|     1|      3|   4.0|964981247|\n",
      "|     1|      6|   4.0|964982224|\n",
      "|     1|     47|   5.0|964983815|\n",
      "|     1|     50|   5.0|964982931|\n",
      "|     1|     70|   3.0|964982400|\n",
      "|     1|    101|   5.0|964980868|\n",
      "|     1|    110|   4.0|964982176|\n",
      "|     1|    151|   5.0|964984041|\n",
      "|     1|    157|   5.0|964984100|\n",
      "|     1|    163|   5.0|964983650|\n",
      "|     1|    216|   5.0|964981208|\n",
      "|     1|    223|   3.0|964980985|\n",
      "|     1|    231|   5.0|964981179|\n",
      "|     1|    235|   4.0|964980908|\n",
      "|     1|    260|   5.0|964981680|\n",
      "|     1|    296|   3.0|964982967|\n",
      "|     1|    316|   3.0|964982310|\n",
      "|     1|    333|   5.0|964981179|\n",
      "|     1|    349|   4.0|964982563|\n",
      "+------+-------+------+---------+\n",
      "only showing top 20 rows\n",
      "\n"
     ]
    }
   ],
   "source": [
    "ratings.show()"
   ]
  },
  {
   "cell_type": "code",
   "execution_count": null,
   "metadata": {},
   "outputs": [],
   "source": []
  }
 ],
 "metadata": {
  "kernelspec": {
   "display_name": "Kotlin",
   "language": "kotlin",
   "name": "kotlin"
  },
  "language_info": {
   "codemirror_mode": "text/x-kotlin",
   "file_extension": ".kt",
   "mimetype": "text/x-kotlin",
   "name": "kotlin",
   "pygments_lexer": "kotlin",
   "version": "1.5.0-dev-1206"
  }
 },
 "nbformat": 4,
 "nbformat_minor": 4
}

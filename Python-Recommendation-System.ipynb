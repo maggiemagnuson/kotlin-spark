{
 "cells": [
  {
   "cell_type": "code",
   "execution_count": 2,
   "metadata": {},
   "outputs": [],
   "source": [
    "from pyspark.sql import SparkSession\n",
    "from pyspark.sql import functions as f\n",
    "from pyspark.ml.recommendation import ALS\n",
    "from pyspark.ml.evaluation import RegressionEvaluator\n",
    "from pyspark.ml.tuning import CrossValidator, ParamGridBuilder"
   ]
  },
  {
   "cell_type": "code",
   "execution_count": 3,
   "metadata": {},
   "outputs": [],
   "source": [
    "spark = SparkSession.builder.appName(\"Recommendation\").master(\"local[*]\").getOrCreate()"
   ]
  },
  {
   "cell_type": "code",
   "execution_count": 4,
   "metadata": {},
   "outputs": [],
   "source": [
    "ratings_file = \"data/ml-latest-small/ratings.csv\"\n",
    "movies_file = \"data/ml-latest-small/movies.csv\""
   ]
  },
  {
   "cell_type": "code",
   "execution_count": 5,
   "metadata": {},
   "outputs": [],
   "source": [
    "ratings = (\n",
    "    spark.read.csv(\n",
    "        path=ratings_file,\n",
    "        sep=\",\",\n",
    "        header=True,\n",
    "        quote='\"',\n",
    "        schema=\"userId INT, movieId INT, rating DOUBLE, timestamp INT\"\n",
    "    )\n",
    "    .select(\"userId\", \"movieId\", \"rating\")\n",
    ")"
   ]
  },
  {
   "cell_type": "code",
   "execution_count": 6,
   "metadata": {},
   "outputs": [],
   "source": [
    "movies = (\n",
    "    spark.read.csv(\n",
    "        path=movies_file,\n",
    "        sep=\",\",\n",
    "        header=True,\n",
    "        quote='\"',\n",
    "        schema=\"movieId INT, title STRING, genres STRING\"\n",
    "    )\n",
    "    .withColumn(\"release_year\", f.regexp_extract(f.col(\"title\"), \"\\s?\\((\\d{4})\\)\", 1))\n",
    "    .withColumn(\"title\", f.regexp_replace(f.col(\"title\"), \"\\s?\\((\\d{4})\\)\", \"\"))\n",
    "    .withColumn(\"genres\", f.split(f.col(\"genres\"), \"\\|\"))\n",
    ")"
   ]
  },
  {
   "cell_type": "code",
   "execution_count": 7,
   "metadata": {},
   "outputs": [
    {
     "name": "stdout",
     "output_type": "stream",
     "text": [
      "+-------+--------------------+--------------------+------------+\n",
      "|movieId|               title|              genres|release_year|\n",
      "+-------+--------------------+--------------------+------------+\n",
      "|      1|           Toy Story|[Adventure, Anima...|        1995|\n",
      "|      2|             Jumanji|[Adventure, Child...|        1995|\n",
      "|      3|    Grumpier Old Men|   [Comedy, Romance]|        1995|\n",
      "|      4|   Waiting to Exhale|[Comedy, Drama, R...|        1995|\n",
      "|      5|Father of the Bri...|            [Comedy]|        1995|\n",
      "|      6|                Heat|[Action, Crime, T...|        1995|\n",
      "|      7|             Sabrina|   [Comedy, Romance]|        1995|\n",
      "|      8|        Tom and Huck|[Adventure, Child...|        1995|\n",
      "|      9|        Sudden Death|            [Action]|        1995|\n",
      "|     10|           GoldenEye|[Action, Adventur...|        1995|\n",
      "|     11|American Presiden...|[Comedy, Drama, R...|        1995|\n",
      "|     12|Dracula: Dead and...|    [Comedy, Horror]|        1995|\n",
      "|     13|               Balto|[Adventure, Anima...|        1995|\n",
      "|     14|               Nixon|             [Drama]|        1995|\n",
      "|     15|    Cutthroat Island|[Action, Adventur...|        1995|\n",
      "|     16|              Casino|      [Crime, Drama]|        1995|\n",
      "|     17|Sense and Sensibi...|    [Drama, Romance]|        1995|\n",
      "|     18|          Four Rooms|            [Comedy]|        1995|\n",
      "|     19|Ace Ventura: When...|            [Comedy]|        1995|\n",
      "|     20|         Money Train|[Action, Comedy, ...|        1995|\n",
      "+-------+--------------------+--------------------+------------+\n",
      "only showing top 20 rows\n",
      "\n"
     ]
    }
   ],
   "source": [
    "movies.show()"
   ]
  },
  {
   "cell_type": "code",
   "execution_count": 8,
   "metadata": {},
   "outputs": [
    {
     "name": "stdout",
     "output_type": "stream",
     "text": [
      "+------+-------+------+\n",
      "|userId|movieId|rating|\n",
      "+------+-------+------+\n",
      "|     1|      1|   4.0|\n",
      "|     1|      3|   4.0|\n",
      "|     1|      6|   4.0|\n",
      "|     1|     47|   5.0|\n",
      "|     1|     50|   5.0|\n",
      "|     1|     70|   3.0|\n",
      "|     1|    101|   5.0|\n",
      "|     1|    110|   4.0|\n",
      "|     1|    151|   5.0|\n",
      "|     1|    163|   5.0|\n",
      "|     1|    216|   5.0|\n",
      "|     1|    223|   3.0|\n",
      "|     1|    231|   5.0|\n",
      "|     1|    235|   4.0|\n",
      "|     1|    260|   5.0|\n",
      "|     1|    296|   3.0|\n",
      "|     1|    316|   3.0|\n",
      "|     1|    333|   5.0|\n",
      "|     1|    362|   5.0|\n",
      "|     1|    367|   4.0|\n",
      "+------+-------+------+\n",
      "only showing top 20 rows\n",
      "\n"
     ]
    }
   ],
   "source": [
    "als = ALS(\n",
    "    userCol=\"userId\",\n",
    "    itemCol=\"movieId\",\n",
    "    ratingCol=\"rating\",\n",
    ")\n",
    "\n",
    "evaluator = RegressionEvaluator(\n",
    "    metricName=\"rmse\", labelCol=\"rating\", predictionCol=\"prediction\"\n",
    ")\n",
    "\n",
    "parameter_grid = (\n",
    "    ParamGridBuilder()\n",
    "    .addGrid(als.rank, [1,5,10])\n",
    "    .addGrid(als.maxIter, [20])\n",
    "    .addGrid(als.regParam, [0.05, 0.1])\n",
    "    .build()\n",
    ")\n",
    "\n",
    "crossValidator = CrossValidator(\n",
    "    estimator=als,\n",
    "    estimatorParamMaps=parameter_grid,\n",
    "    evaluator=evaluator,\n",
    "    numFolds=2,\n",
    ")\n",
    "\n",
    "(training_data, validation_data) = ratings.randomSplit([8.0, 2.0])\n",
    "\n",
    "training_data.show()"
   ]
  },
  {
   "cell_type": "code",
   "execution_count": 9,
   "metadata": {},
   "outputs": [],
   "source": [
    "crossval_model = crossValidator.fit(training_data)"
   ]
  },
  {
   "cell_type": "code",
   "execution_count": 10,
   "metadata": {},
   "outputs": [
    {
     "name": "stdout",
     "output_type": "stream",
     "text": [
      "rmse for best model (ALSModel: uid=ALS_5b67321727af, rank=1): 0.8865769511675279\n"
     ]
    }
   ],
   "source": [
    "model = crossval_model.bestModel\n",
    "predictions = model.transform(validation_data).na.drop()\n",
    "print(f\"rmse for best model ({model}): {evaluator.evaluate(predictions)}\")"
   ]
  },
  {
   "cell_type": "code",
   "execution_count": 11,
   "metadata": {},
   "outputs": [
    {
     "data": {
      "text/html": [
       "<div>\n",
       "<style scoped>\n",
       "    .dataframe tbody tr th:only-of-type {\n",
       "        vertical-align: middle;\n",
       "    }\n",
       "\n",
       "    .dataframe tbody tr th {\n",
       "        vertical-align: top;\n",
       "    }\n",
       "\n",
       "    .dataframe thead th {\n",
       "        text-align: right;\n",
       "    }\n",
       "</style>\n",
       "<table border=\"1\" class=\"dataframe\">\n",
       "  <thead>\n",
       "    <tr style=\"text-align: right;\">\n",
       "      <th></th>\n",
       "      <th>userId</th>\n",
       "      <th>movieId</th>\n",
       "      <th>rating</th>\n",
       "      <th>prediction</th>\n",
       "    </tr>\n",
       "  </thead>\n",
       "  <tbody>\n",
       "    <tr>\n",
       "      <th>0</th>\n",
       "      <td>436</td>\n",
       "      <td>471</td>\n",
       "      <td>3.0</td>\n",
       "      <td>3.559944</td>\n",
       "    </tr>\n",
       "    <tr>\n",
       "      <th>1</th>\n",
       "      <td>409</td>\n",
       "      <td>471</td>\n",
       "      <td>3.0</td>\n",
       "      <td>3.797771</td>\n",
       "    </tr>\n",
       "    <tr>\n",
       "      <th>2</th>\n",
       "      <td>217</td>\n",
       "      <td>471</td>\n",
       "      <td>2.0</td>\n",
       "      <td>3.002758</td>\n",
       "    </tr>\n",
       "    <tr>\n",
       "      <th>3</th>\n",
       "      <td>171</td>\n",
       "      <td>471</td>\n",
       "      <td>3.0</td>\n",
       "      <td>4.406048</td>\n",
       "    </tr>\n",
       "    <tr>\n",
       "      <th>4</th>\n",
       "      <td>448</td>\n",
       "      <td>471</td>\n",
       "      <td>4.0</td>\n",
       "      <td>3.302723</td>\n",
       "    </tr>\n",
       "    <tr>\n",
       "      <th>...</th>\n",
       "      <td>...</td>\n",
       "      <td>...</td>\n",
       "      <td>...</td>\n",
       "      <td>...</td>\n",
       "    </tr>\n",
       "    <tr>\n",
       "      <th>19591</th>\n",
       "      <td>448</td>\n",
       "      <td>84374</td>\n",
       "      <td>2.0</td>\n",
       "      <td>2.998096</td>\n",
       "    </tr>\n",
       "    <tr>\n",
       "      <th>19592</th>\n",
       "      <td>298</td>\n",
       "      <td>84374</td>\n",
       "      <td>0.5</td>\n",
       "      <td>2.255881</td>\n",
       "    </tr>\n",
       "    <tr>\n",
       "      <th>19593</th>\n",
       "      <td>448</td>\n",
       "      <td>145839</td>\n",
       "      <td>2.5</td>\n",
       "      <td>3.124542</td>\n",
       "    </tr>\n",
       "    <tr>\n",
       "      <th>19594</th>\n",
       "      <td>380</td>\n",
       "      <td>147378</td>\n",
       "      <td>3.0</td>\n",
       "      <td>3.610469</td>\n",
       "    </tr>\n",
       "    <tr>\n",
       "      <th>19595</th>\n",
       "      <td>525</td>\n",
       "      <td>147378</td>\n",
       "      <td>3.5</td>\n",
       "      <td>3.205417</td>\n",
       "    </tr>\n",
       "  </tbody>\n",
       "</table>\n",
       "<p>19596 rows × 4 columns</p>\n",
       "</div>"
      ],
      "text/plain": [
       "       userId  movieId  rating  prediction\n",
       "0         436      471     3.0    3.559944\n",
       "1         409      471     3.0    3.797771\n",
       "2         217      471     2.0    3.002758\n",
       "3         171      471     3.0    4.406048\n",
       "4         448      471     4.0    3.302723\n",
       "...       ...      ...     ...         ...\n",
       "19591     448    84374     2.0    2.998096\n",
       "19592     298    84374     0.5    2.255881\n",
       "19593     448   145839     2.5    3.124542\n",
       "19594     380   147378     3.0    3.610469\n",
       "19595     525   147378     3.5    3.205417\n",
       "\n",
       "[19596 rows x 4 columns]"
      ]
     },
     "execution_count": 11,
     "metadata": {},
     "output_type": "execute_result"
    }
   ],
   "source": [
    "predictions.toPandas()"
   ]
  },
  {
   "cell_type": "code",
   "execution_count": 12,
   "metadata": {},
   "outputs": [
    {
     "name": "stdout",
     "output_type": "stream",
     "text": [
      "+------+---------------------------------------------------------------------------------------------+\n",
      "|userId|recommendations                                                                              |\n",
      "+------+---------------------------------------------------------------------------------------------+\n",
      "|471   |[[6835, 7.996435], [5181, 7.996435], [5746, 7.996435], [136850, 7.3697414], [5764, 7.196791]]|\n",
      "+------+---------------------------------------------------------------------------------------------+\n",
      "only showing top 1 row\n",
      "\n"
     ]
    }
   ],
   "source": [
    "USER_ID = [150, 160, 170, 180]\n",
    "\n",
    "rec_all_users = model.recommendForAllUsers(5)\n",
    "rec_all_users.show(1, False)"
   ]
  },
  {
   "cell_type": "code",
   "execution_count": 13,
   "metadata": {},
   "outputs": [],
   "source": [
    "def recommender(rec_all_users, movies, userids):\n",
    "    return_val = (rec_all_users.filter(f.col(\"userId\").isin(userids))\n",
    "    .withColumn(\"rec\", f.explode(\"recommendations\"))\n",
    "    .select(\n",
    "        \"userId\",\n",
    "        f.col(\"rec\").movieId.alias(\"movieId\"),\n",
    "        f.col(\"rec\").rating.alias(\"rating\")\n",
    "    )\n",
    "    .join(movies, \"movieId\")\n",
    "    .orderBy(\"rating\", ascending=False)\n",
    "    .select(\"userId\", \"movieId\", \"title\", \"release_year\"))\n",
    "    return return_val"
   ]
  },
  {
   "cell_type": "code",
   "execution_count": 14,
   "metadata": {},
   "outputs": [],
   "source": [
    "foo = recommender(rec_all_users, movies, USER_ID)"
   ]
  },
  {
   "cell_type": "code",
   "execution_count": 15,
   "metadata": {},
   "outputs": [
    {
     "name": "stdout",
     "output_type": "stream",
     "text": [
      "+------+-------+--------------------+------------+\n",
      "|userId|movieId|               title|release_year|\n",
      "+------+-------+--------------------+------------+\n",
      "|   150|   5746|Galaxy of Terror ...|        1981|\n",
      "|   150|   5181|           Hangar 18|        1980|\n",
      "|   150|   6835| Alien Contamination|        1980|\n",
      "|   170|   6835| Alien Contamination|        1980|\n",
      "|   170|   5746|Galaxy of Terror ...|        1981|\n",
      "|   170|   5181|           Hangar 18|        1980|\n",
      "|   180|   5746|Galaxy of Terror ...|        1981|\n",
      "|   180|   5181|           Hangar 18|        1980|\n",
      "|   180|   6835| Alien Contamination|        1980|\n",
      "|   150| 136850|             Villain|        1971|\n",
      "|   170| 136850|             Villain|        1971|\n",
      "|   150|   5764|              Looker|        1981|\n",
      "|   170|   5764|              Looker|        1981|\n",
      "|   180| 136850|             Villain|        1971|\n",
      "|   180|   5764|              Looker|        1981|\n",
      "|   160|   5746|Galaxy of Terror ...|        1981|\n",
      "|   160|   5181|           Hangar 18|        1980|\n",
      "|   160|   6835| Alien Contamination|        1980|\n",
      "|   160| 136850|             Villain|        1971|\n",
      "|   160|   5764|              Looker|        1981|\n",
      "+------+-------+--------------------+------------+\n",
      "\n"
     ]
    }
   ],
   "source": [
    "foo.show()"
   ]
  },
  {
   "cell_type": "code",
   "execution_count": null,
   "metadata": {},
   "outputs": [],
   "source": []
  }
 ],
 "metadata": {
  "kernelspec": {
   "display_name": "Python 3",
   "language": "python",
   "name": "python3"
  },
  "language_info": {
   "codemirror_mode": {
    "name": "ipython",
    "version": 3
   },
   "file_extension": ".py",
   "mimetype": "text/x-python",
   "name": "python",
   "nbconvert_exporter": "python",
   "pygments_lexer": "ipython3",
   "version": "3.8.1"
  }
 },
 "nbformat": 4,
 "nbformat_minor": 4
}

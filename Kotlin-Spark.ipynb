{
 "cells": [
  {
   "cell_type": "code",
   "execution_count": 1,
   "metadata": {},
   "outputs": [],
   "source": [
    "%output --no-stdout"
   ]
  },
  {
   "cell_type": "code",
   "execution_count": 2,
   "metadata": {
    "scrolled": true
   },
   "outputs": [],
   "source": [
    "@file:Repository(\"https://binrepo.target.com/artifactory/gradle\")\n",
    "@file:Repository(\"https://binrepo.target.com/artifactory/maven-central\")\n",
    "@file:Repository(\"https://binrepo.target.com/artifactory/jcenter\")\n",
    "@file:Repository(\"https://binrepo.target.com/artifactory/jitpack-maven\")\n",
    "@file:Repository(\"https://binrepo.target.com/artifactory/kotlin-maven\")\n",
    "@file:Repository(\"https://binrepo.target.com/artifactory/apache-maven\")\n",
    "@file:Repository(\"https://binrepo.target.com/artifactory/jitpack\")\n",
    "%use spark"
   ]
  },
  {
   "cell_type": "code",
   "execution_count": 3,
   "metadata": {},
   "outputs": [],
   "source": [
    "%output --reset-to-defaults\n",
    "@file:DependsOn(\"org.jetbrains.kotlinx.spark:kotlin-spark-api-3.0.0_2.12:1.0.0-preview1\")"
   ]
  },
  {
   "cell_type": "code",
   "execution_count": 4,
   "metadata": {},
   "outputs": [],
   "source": [
    "import org.jetbrains.kotlinx.spark.api.*\n",
    "import org.apache.spark.sql.types.DataTypes\n",
    "import org.apache.spark.sql.types.StructType\n",
    "import org.apache.spark.sql.types.StructField\n",
    "import org.apache.spark.sql.types.Metadata\n",
    "import org.apache.spark.sql.functions.*"
   ]
  },
  {
   "cell_type": "code",
   "execution_count": 16,
   "metadata": {},
   "outputs": [],
   "source": [
    "val ratingFile = \"data/ml-latest/ratings.csv\"\n",
    "val movieFile = \"data/ml-latest/movies.csv\"\n",
    "val linkFile = \"data/ml-latest/links.csv\"\n",
    "val tagFile = \"data/ml-latest/tags.csv\""
   ]
  },
  {
   "cell_type": "code",
   "execution_count": 5,
   "metadata": {},
   "outputs": [],
   "source": [
    "val schemaTyped = StructType(\n",
    "    arrayOf(\n",
    "            StructField(\"userId\", DataTypes.IntegerType, true, Metadata.empty()),\n",
    "            StructField(\"movieId\", DataTypes.IntegerType, true, Metadata.empty()),\n",
    "            StructField(\"rating\", DataTypes.DoubleType, true, Metadata.empty()),\n",
    "            StructField(\"timestamp\", DataTypes.IntegerType, true, Metadata.empty())\n",
    "           )\n",
    ")"
   ]
  },
  {
   "cell_type": "code",
   "execution_count": 17,
   "metadata": {},
   "outputs": [],
   "source": [
    "withSpark(logLevel = SparkLogLevel.INFO) {\n",
    "    val debug = false\n",
    "    \n",
    "    val ratings = spark\n",
    "        .read()\n",
    "        .option(\"header\", \"true\")\n",
    "        .option(\"inferSchema\", \"true\")\n",
    "        .csv(ratingFile)\n",
    "        .withColumn(\"timestamp\", to_timestamp(from_unixtime(Column(\"timestamp\"))))\n",
    "\n",
    "    val movies = spark\n",
    "        .read()\n",
    "        .option(\"header\", \"true\")\n",
    "        .option(\"inferSchema\", \"true\")\n",
    "        .csv(movieFile)\n",
    "    \n",
    "    val links = spark\n",
    "        .read()\n",
    "        .option(\"header\", \"true\")\n",
    "        .option(\"inferSchema\", \"true\")\n",
    "        .csv(linkFile)\n",
    "        \n",
    "    val tags = spark\n",
    "        .read()\n",
    "        .option(\"header\", \"true\")\n",
    "        .option(\"inferSchema\", \"true\")\n",
    "        .csv(tagFile)\n",
    "        .withColumn(\"timestamp\", to_timestamp(from_unixtime(Column(\"timestamp\"))))\n",
    "    \n",
    "    // Array operations\n",
    "    val movie_genre = (\n",
    "        movies\n",
    "            .withColumn(\"genres_array\", split(Column(\"genres\"), \"\\\\|\"))\n",
    "            .withColumn(\"genre\", explode(Column(\"genres_array\")))\n",
    "    )\n",
    "    \n",
    "    if (debug) {\n",
    "        // See sample data\n",
    "        ratings.show()\n",
    "        movies.show()\n",
    "        movie_genre.show()\n",
    "        links.show()\n",
    "        tags.show()\n",
    "        \n",
    "        // Show dataframe schema\n",
    "        ratings.printSchema()\n",
    "        movies.printSchema()\n",
    "        \n",
    "        // Filters\n",
    "        movies.where(Column(\"genres\").equalTo(\"Action\")).show()\n",
    "        movies.where(\"genres = 'Action'\").show()\n",
    "        movie_genre.select(\"movieId\", \"title\", \"genre\").where(\"genre = '(no genres listed)'\").show()\n",
    "        \n",
    "        // Get distinct values for column\n",
    "        movie_genre.select(\"genre\").distinct().show()\n",
    "    \n",
    "        // Select columns\n",
    "        movie_genre.select(\"movieId\", \"title\", \"genre\").show()\n",
    "        \n",
    "        // Count geners\n",
    "        movie_genre.select(\"genre\").groupBy(\"genre\").count().sort(desc(\"count\")).show()\n",
    "    \n",
    "        movies.printSchema()\n",
    "        tags.printSchema()\n",
    "    \n",
    "        val opinions = movies.join(tags, movies.col(\"movieId\").eq(tags.col(\"movieId\"))).also { it.printSchema() }\n",
    "    \n",
    "        opinions.show()\n",
    "    }\n",
    "}"
   ]
  },
  {
   "cell_type": "code",
   "execution_count": 18,
   "metadata": {},
   "outputs": [],
   "source": [
    "val spark = SparkSession\n",
    ".builder()\n",
    ".master(\"local[*]\")\n",
    ".appName(\"SimpleApp\").orCreate"
   ]
  },
  {
   "cell_type": "code",
   "execution_count": 19,
   "metadata": {},
   "outputs": [],
   "source": [
    "val ratings = spark\n",
    "        .read()\n",
    "        .option(\"header\", \"true\")\n",
    "        .option(\"inferSchema\", \"true\")\n",
    "        .csv(ratingFile)\n",
    "        .withColumn(\"timestamp\", to_timestamp(from_unixtime(Column(\"timestamp\"))))\n",
    "        \n",
    "val movies = spark\n",
    "        .read()\n",
    "        .option(\"header\", \"true\")\n",
    "        .option(\"inferSchema\", \"true\")\n",
    "        .csv(movieFile)\n",
    "    \n",
    "val links = spark\n",
    "    .read()\n",
    "    .option(\"header\", \"true\")\n",
    "    .option(\"inferSchema\", \"true\")\n",
    "    .csv(linkFile)\n",
    "\n",
    "val tags = spark\n",
    "    .read()\n",
    "    .option(\"header\", \"true\")\n",
    "    .option(\"inferSchema\", \"true\")\n",
    "    .csv(tagFile)\n",
    "    .withColumn(\"timestamp\", to_timestamp(from_unixtime(Column(\"timestamp\"))))\n",
    "    \n",
    "// Array operations\n",
    "val movie_genre = (\n",
    "    movies\n",
    "        .withColumn(\"genres_array\", split(Column(\"genres\"), \"\\\\|\"))\n",
    "        .withColumn(\"genre\", explode(Column(\"genres_array\")))\n",
    ")    "
   ]
  },
  {
   "cell_type": "code",
   "execution_count": 20,
   "metadata": {},
   "outputs": [],
   "source": [
    "spark.conf().set(\"spark.sql.autoBroadcastJoinThreshold\", -1)"
   ]
  },
  {
   "cell_type": "code",
   "execution_count": 21,
   "metadata": {},
   "outputs": [],
   "source": [
    "// This syntax will only include the movieId in the result set once.\n",
    "val opinions = movies.join(tags, \"movieId\")\n",
    "    .withColumnRenamed(\"userId\", \"user_id\")\n",
    "    .withColumnRenamed(\"movieId\", \"movie_id\")\n",
    "    .select(\"user_id\", \"movie_id\", \"title\", \"tag\", \"timestamp\")\n",
    "\n",
    "// This syntax will include movieId twice\n",
    "// movies.join(tags, movies.col(\"movieId\").eq(tags.col(\"movieId\"))).show()"
   ]
  },
  {
   "cell_type": "code",
   "execution_count": 22,
   "metadata": {},
   "outputs": [
    {
     "name": "stdout",
     "output_type": "stream",
     "text": [
      "+-------+--------+--------------------+--------------------+-------------------+\n",
      "|user_id|movie_id|               title|                 tag|          timestamp|\n",
      "+-------+--------+--------------------+--------------------+-------------------+\n",
      "|  40716|     148|Awfully Big Adven...|Nudity (Topless -...|2006-09-20 01:46:17|\n",
      "|  73406|     148|Awfully Big Adven...|               1940s|2018-06-07 00:44:07|\n",
      "|  73406|     148|Awfully Big Adven...|based on novel or...|2018-06-07 00:44:07|\n",
      "|  73406|     148|Awfully Big Adven...|             england|2018-06-07 00:44:07|\n",
      "|  73406|     148|Awfully Big Adven...|           liverpool|2018-06-07 00:44:07|\n",
      "|  73406|     148|Awfully Big Adven...|     theatre company|2018-06-07 00:44:07|\n",
      "| 103013|     148|Awfully Big Adven...|    nudity (topless)|2014-05-16 18:12:20|\n",
      "| 146340|     148|Awfully Big Adven...|              catchy|2015-06-22 05:32:07|\n",
      "|  15930|     471|Hudsucker Proxy, ...|             Fantasy|2011-08-02 18:57:17|\n",
      "|  15930|     471|Hudsucker Proxy, ...|               funny|2011-08-02 18:57:14|\n",
      "|  15930|     471|Hudsucker Proxy, ...|           whimsical|2011-08-02 18:57:09|\n",
      "|  15930|     471|Hudsucker Proxy, ...|               witty|2011-08-02 18:57:06|\n",
      "|  19725|     471|Hudsucker Proxy, ...|             rewatch|2016-12-29 18:23:33|\n",
      "|  22511|     471|Hudsucker Proxy, ...|Business is the a...|2018-06-11 18:55:42|\n",
      "|  22511|     471|Hudsucker Proxy, ...|              cheesy|2018-06-11 18:55:35|\n",
      "|  22511|     471|Hudsucker Proxy, ...|              quirky|2018-06-11 18:55:47|\n",
      "|  32560|     471|Hudsucker Proxy, ...|         Capra-esque|2007-11-27 15:57:52|\n",
      "|  41486|     471|Hudsucker Proxy, ...|              btaege|2013-07-16 22:39:55|\n",
      "|  44299|     471|Hudsucker Proxy, ...|       Coen Brothers|2014-02-19 01:55:14|\n",
      "|  44299|     471|Hudsucker Proxy, ...|             Fantasy|2014-02-19 01:55:20|\n",
      "+-------+--------+--------------------+--------------------+-------------------+\n",
      "only showing top 20 rows\n",
      "\n"
     ]
    }
   ],
   "source": [
    "opinions.show()"
   ]
  },
  {
   "cell_type": "code",
   "execution_count": 23,
   "metadata": {},
   "outputs": [
    {
     "name": "stdout",
     "output_type": "stream",
     "text": [
      "+-------+--------+--------------------+----------------+-------------------+------+-------------------+\n",
      "|user_id|movie_id|               title|             tag|      tag_timestamp|rating|          timestamp|\n",
      "+-------+--------+--------------------+----------------+-------------------+------+-------------------+\n",
      "| 277453|       1|    Toy Story (1995)|       animation|2006-05-12 00:13:44|   4.0|2006-05-12 00:13:47|\n",
      "| 277453|       1|    Toy Story (1995)|          Disney|2006-05-12 11:05:42|   4.0|2006-05-12 00:13:47|\n",
      "| 277453|       1|    Toy Story (1995)|           Pixar|2006-05-12 00:13:42|   4.0|2006-05-12 00:13:47|\n",
      "| 277453|       1|    Toy Story (1995)|            toys|2006-05-12 11:05:40|   4.0|2006-05-12 00:13:47|\n",
      "|  11476|       6|         Heat (1995)|       Al Pacino|2013-08-15 09:40:02|   3.5|2013-08-15 09:39:35|\n",
      "|  11476|       6|         Heat (1995)|           crime|2013-08-15 09:40:11|   3.5|2013-08-15 09:39:35|\n",
      "|  11476|       6|         Heat (1995)|    great acting|2013-08-15 09:40:10|   3.5|2013-08-15 09:39:35|\n",
      "|  11476|       6|         Heat (1995)|realistic action|2013-08-15 09:40:16|   3.5|2013-08-15 09:39:35|\n",
      "|  11476|       6|         Heat (1995)|        suspense|2013-08-15 09:39:53|   3.5|2013-08-15 09:39:35|\n",
      "|  11476|       6|         Heat (1995)|           tense|2013-08-15 09:39:50|   3.5|2013-08-15 09:39:35|\n",
      "| 268681|      12|Dracula: Dead and...|            BD-R|2013-07-21 11:33:11|  null|               null|\n",
      "|  71028|      17|Sense and Sensibi...|    Alan Rickman|2012-06-02 20:26:43|   5.0|2012-06-02 20:26:12|\n",
      "|  71028|      17|Sense and Sensibi...|     chick flick|2012-06-02 20:26:51|   5.0|2012-06-02 20:26:12|\n",
      "|  71028|      17|Sense and Sensibi...|         classic|2012-06-02 20:26:31|   5.0|2012-06-02 20:26:12|\n",
      "|  71028|      17|Sense and Sensibi...|      Hugh Grant|2012-06-02 20:26:40|   5.0|2012-06-02 20:26:12|\n",
      "|  71028|      17|Sense and Sensibi...|     Jane Austen|2012-06-02 20:26:24|   5.0|2012-06-02 20:26:12|\n",
      "|  71028|      17|Sense and Sensibi...|    Kate Winslet|2012-06-02 20:26:25|   5.0|2012-06-02 20:26:12|\n",
      "|  71028|      17|Sense and Sensibi...|          Period|2012-06-02 20:26:27|   5.0|2012-06-02 20:26:12|\n",
      "| 138115|      22|      Copycat (1995)|        thriller|2013-05-15 03:05:28|  null|               null|\n",
      "| 242353|      28|   Persuasion (1995)|     Jane Austen|2007-04-19 14:54:12|  null|               null|\n",
      "+-------+--------+--------------------+----------------+-------------------+------+-------------------+\n",
      "only showing top 20 rows\n",
      "\n"
     ]
    }
   ],
   "source": [
    "val opinionsWithRating = opinions.withColumnRenamed(\"timestamp\", \"tag_timestamp\")\n",
    "    .join(ratings, opinions.col(\"movie_id\").eq(ratings.col(\"movieId\"))\n",
    "            .and(opinions.col(\"user_id\").eq(ratings.col(\"userId\"))), \"left\")\n",
    "    .select(\"user_id\", \"movie_id\", \"title\", \"tag\", \"tag_timestamp\", \"rating\", \"timestamp\")\n",
    "\n",
    "opinionsWithRating.show()"
   ]
  },
  {
   "cell_type": "code",
   "execution_count": 25,
   "metadata": {},
   "outputs": [
    {
     "data": {
      "text/plain": [
       "1108997"
      ]
     },
     "execution_count": 25,
     "metadata": {
      "new_classpath": []
     },
     "output_type": "execute_result"
    }
   ],
   "source": [
    "opinionsWithRating.count()"
   ]
  },
  {
   "cell_type": "code",
   "execution_count": 26,
   "metadata": {},
   "outputs": [
    {
     "data": {
      "text/plain": [
       "27753444"
      ]
     },
     "execution_count": 26,
     "metadata": {
      "new_classpath": []
     },
     "output_type": "execute_result"
    }
   ],
   "source": [
    "ratings.count()"
   ]
  },
  {
   "cell_type": "code",
   "execution_count": 27,
   "metadata": {},
   "outputs": [
    {
     "data": {
      "text/plain": [
       "283228"
      ]
     },
     "execution_count": 27,
     "metadata": {
      "new_classpath": []
     },
     "output_type": "execute_result"
    }
   ],
   "source": [
    "ratings.select(\"userId\").distinct().count()"
   ]
  },
  {
   "cell_type": "code",
   "execution_count": 28,
   "metadata": {},
   "outputs": [
    {
     "data": {
      "text/plain": [
       "19325"
      ]
     },
     "execution_count": 28,
     "metadata": {
      "new_classpath": []
     },
     "output_type": "execute_result"
    }
   ],
   "source": [
    "tags.select(\"userId\").distinct().count()"
   ]
  },
  {
   "cell_type": "code",
   "execution_count": 29,
   "metadata": {},
   "outputs": [
    {
     "data": {
      "text/plain": [
       "45981"
      ]
     },
     "execution_count": 29,
     "metadata": {
      "new_classpath": []
     },
     "output_type": "execute_result"
    }
   ],
   "source": [
    "tags.select(\"movieId\").distinct().count()"
   ]
  },
  {
   "cell_type": "code",
   "execution_count": 30,
   "metadata": {},
   "outputs": [
    {
     "name": "stdout",
     "output_type": "stream",
     "text": [
      "+--------------------+--------+-----------+-----------+------------------+-------------------+-------------------+\n",
      "|               title|count(1)|min(rating)|max(rating)|       avg(rating)|     min(timestamp)|     max(timestamp)|\n",
      "+--------------------+--------+-----------+-----------+------------------+-------------------+-------------------+\n",
      "|Men in Black (a.k...|   44287|        0.5|        5.0| 3.578533203874726|1997-07-04 05:54:16|2018-09-26 00:03:50|\n",
      "|What's Up, Scarle...|       2|        2.0|        2.5|              2.25|2012-01-04 01:56:13|2012-01-04 08:26:23|\n",
      "|    Peter Pan (2000)|       9|        2.0|        4.5|3.3333333333333335|2015-09-15 01:42:17|2018-04-03 17:24:00|\n",
      "| Other People (2016)|      60|        0.5|        5.0|               3.5|2016-09-10 22:37:32|2018-09-19 22:40:25|\n",
      "|         Prom (2011)|      54|        0.5|        5.0|2.8703703703703702|2011-09-29 14:53:00|2018-08-02 10:18:25|\n",
      "|Komisarz Blond i ...|       1|        1.0|        1.0|               1.0|2017-11-27 17:48:11|2017-11-27 17:48:11|\n",
      "|Mr. Bug Goes to T...|      10|        0.5|        4.5|               3.1|2011-12-25 15:40:11|2018-01-10 01:50:13|\n",
      "| Scott Joplin (1977)|       3|        3.0|        3.5|3.1666666666666665|2014-02-22 21:16:49|2018-08-29 23:12:13|\n",
      "|Seven Beauties (P...|     619|        0.5|        5.0|3.8578352180936997|1998-09-03 02:40:03|2018-08-21 14:29:30|\n",
      "|          The Ritual|       1|        3.0|        3.0|               3.0|2017-03-01 12:38:47|2017-03-01 12:38:47|\n",
      "|One-Eyed Monster ...|      10|        0.5|        4.0|               2.2|2013-04-24 22:18:56|2017-07-29 20:19:53|\n",
      "|The Flintstones &...|      12|        0.5|        5.0|2.7083333333333335|2015-06-30 02:20:08|2018-03-28 07:23:16|\n",
      "|   Deadpool 2 (2018)|    1633|        0.5|        5.0| 3.838946723821188|2018-05-14 21:22:33|2018-09-26 01:13:37|\n",
      "|Hello, Dolly! (1969)|     507|        0.5|        5.0|3.3727810650887573|2003-08-31 11:07:50|2018-09-19 13:49:04|\n",
      "|Futurama: Into th...|    1125|        0.5|        5.0|3.7653333333333334|2009-02-18 05:06:46|2018-09-17 02:16:38|\n",
      "|Around the World ...|       3|        2.5|        3.0|2.8333333333333335|2012-10-21 02:04:28|2012-11-06 21:36:22|\n",
      "|Nightmare Circus ...|       1|        1.5|        1.5|               1.5|2018-08-29 23:12:10|2018-08-29 23:12:10|\n",
      "|The Mysterious Mr...|       3|        0.5|        1.5|1.1666666666666667|2016-10-18 19:11:25|2018-05-02 10:10:25|\n",
      "|We and the I, The...|      15|        0.5|        5.0|               3.1|2014-01-11 23:03:16|2018-05-28 02:04:14|\n",
      "| Wicked Blood (2014)|      15|        0.5|        4.5|2.8333333333333335|2015-01-16 13:49:19|2018-07-09 23:02:08|\n",
      "+--------------------+--------+-----------+-----------+------------------+-------------------+-------------------+\n",
      "only showing top 20 rows\n",
      "\n"
     ]
    }
   ],
   "source": [
    "ratings.join(movies, \"movieId\").select(\"title\", \"rating\", \"timestamp\").groupBy(\"title\").agg(\n",
    "    count(\"*\"),\n",
    "    min(\"rating\"),\n",
    "    max(\"rating\"),\n",
    "    avg(\"rating\"),\n",
    "    min(\"timestamp\"),\n",
    "    max(\"timestamp\")\n",
    ").show()"
   ]
  },
  {
   "cell_type": "code",
   "execution_count": 31,
   "metadata": {},
   "outputs": [
    {
     "name": "stdout",
     "output_type": "stream",
     "text": [
      "+-------+--------------------+---------+--------------------+----------+-------------------+-------------------+\n",
      "|movieId|                tags|tag_count|               users|user_count|  first_tagged_date|   last_tagged_date|\n",
      "+-------+--------------------+---------+--------------------+----------+-------------------+-------------------+\n",
      "|    260|[Classic, Space e...|     9478|[271990, 118560, ...|      9478|2006-01-12 19:20:26|2018-09-19 08:11:56|\n",
      "|    296|[ontology, Biblio...|     4963|[17546, 13488, 55...|      4963|2006-01-12 15:03:58|2018-09-23 11:49:46|\n",
      "|  79132|[Intense, mystery...|     4670|[89073, 201766, 1...|      4670|2010-07-18 08:22:51|2018-09-23 11:55:45|\n",
      "|   2571|[DVD-Video, Oscar...|     3915|[17546, 55578, 17...|      3915|2006-01-11 16:25:11|2018-09-23 11:54:54|\n",
      "|   2959|[sabotage, dvd, H...|     3864|[55578, 179602, 1...|      3864|2006-01-13 19:50:45|2018-09-11 21:21:14|\n",
      "|    318|[friendship, comp...|     3834|[27594, 201766, 1...|      3834|2006-01-12 15:33:27|2018-09-17 19:01:32|\n",
      "| 109487|[standard crap, S...|     3630|[239411, 118908, ...|      3630|2014-02-27 03:57:12|2018-09-23 12:01:02|\n",
      "|    356|[incredible life ...|     2967|[22570, 78627, 11...|      2967|2006-01-03 13:35:23|2018-09-08 21:06:23|\n",
      "|   4226|[polaroid, DVD-Vi...|     2650|[17546, 118908, 5...|      2650|2006-01-12 16:40:14|2018-09-16 05:41:04|\n",
      "|   7361|[kate winslet, Os...|     2440|[75504, 55578, 89...|      2440|2006-01-13 20:30:08|2018-09-18 20:31:42|\n",
      "|    593|[oscar (best actr...|     2380|[22570, 15776, 21...|      2380|2006-01-13 13:36:22|2018-09-25 20:14:21|\n",
      "|   4878|[anti-hero, DVD-V...|     2368|[17546, 8553, 134...|      2368|2006-01-13 20:29:41|2018-09-23 13:21:58|\n",
      "|   4973|[goofy, setting:P...|     2273|[80549, 104970, 5...|      2273|2006-01-13 19:31:29|2018-09-19 08:15:02|\n",
      "|  48780|[Ambition, class ...|     2163|[80549, 58772, 18...|      2163|2006-10-22 19:34:20|2018-09-23 11:57:36|\n",
      "|  72998|[technical achiev...|     2123|[12326, 98705, 71...|      2123|2009-12-17 08:43:39|2018-09-15 20:28:13|\n",
      "| 115713|[friendship, Seri...|     2032|[8553, 80478, 890...|      2032|2014-11-02 02:58:26|2018-09-23 12:02:47|\n",
      "|    541|[Confusing if you...|     2020|[48784, 66809, 21...|      2020|2006-01-14 05:55:51|2018-09-23 12:04:27|\n",
      "|  58559|[anti-hero, actin...|     1992|[80549, 159726, 1...|      1992|2008-07-19 06:56:47|2018-09-23 02:02:03|\n",
      "|     47|[DVD-Video, glutt...|     1929|[147102, 115408, ...|      1929|2005-12-24 07:03:32|2018-09-11 09:23:45|\n",
      "|   5618|[child lead, DVD-...|     1910|[260282, 55578, 8...|      1910|2006-01-12 20:03:37|2018-09-24 05:15:05|\n",
      "+-------+--------------------+---------+--------------------+----------+-------------------+-------------------+\n",
      "only showing top 20 rows\n",
      "\n"
     ]
    }
   ],
   "source": [
    "tags.groupBy(\"movieId\").agg(\n",
    "    collect_set(\"tag\").alias(\"tags\"),\n",
    "    count(\"tag\").alias(\"tag_count\"),\n",
    "    collect_set(\"userId\").alias(\"users\"),\n",
    "    count(\"userId\").alias(\"user_count\"),\n",
    "    min(\"timestamp\").alias(\"first_tagged_date\"),\n",
    "    max(\"timestamp\").alias(\"last_tagged_date\")\n",
    ").sort(col(\"tag_count\").desc()).show()"
   ]
  },
  {
   "cell_type": "code",
   "execution_count": 32,
   "metadata": {},
   "outputs": [
    {
     "name": "stdout",
     "output_type": "stream",
     "text": [
      "+------+--------------------+-----+------------------+\n",
      "|userId|              movies|  cnt|               avg|\n",
      "+------+--------------------+-----+------------------+\n",
      "|123100|[171057, 3702, 25...|23715|3.1306346194391734|\n",
      "|117490|[4189, 25743, 629...| 9279|3.2784243991809463|\n",
      "|134596|[3702, 146544, 58...| 8381| 3.198305691444935|\n",
      "|212343|[6296, 256, 12203...| 7884|2.5880263825469303|\n",
      "|242683|[4189, 6296, 4445...| 7515|3.2083166999334662|\n",
      "|111908|[6296, 5809, 3476...| 6645|1.5249811888638074|\n",
      "| 77609|[6296, 5809, 2594...| 6398|2.8122069396686467|\n",
      "| 63783|[6296, 45611, 256...| 6346|3.4854238890639775|\n",
      "|172357|[6296, 5809, 3958...| 5868| 2.442058623040218|\n",
      "|141955|[118560, 6296, 58...| 5810|2.8747848537005165|\n",
      "|158002|[6296, 4445, 2594...| 5701|3.7478512541659357|\n",
      "|253511|[2338, 6296, 5809...| 5356| 3.011669156086632|\n",
      "| 48470|[2338, 6296, 5809...| 5257| 2.472988396423816|\n",
      "|183233|[2338, 4445, 2594...| 5169|2.4049139098471657|\n",
      "| 94843|[6296, 2594, 743,...| 5130|1.1253411306042884|\n",
      "| 73145|[118560, 6296, 58...| 5042|2.9775882586275286|\n",
      "| 37046|[3702, 6296, 5809...| 5041| 3.214243205713152|\n",
      "|187986|[5809, 2594, 743,...| 4951|3.2057160169662695|\n",
      "|  4796|[6296, 5809, 2594...| 4874|3.0404185473943373|\n",
      "|236981|[5809, 2107, 1220...| 4854|3.2284713638236506|\n",
      "+------+--------------------+-----+------------------+\n",
      "only showing top 20 rows\n",
      "\n"
     ]
    }
   ],
   "source": [
    "ratings.groupBy(\"userId\").agg(\n",
    "    collect_set(\"movieId\").alias(\"movies\"),\n",
    "    count(\"*\").alias(\"cnt\"),\n",
    "    avg(\"rating\").alias(\"avg\")\n",
    ").sort(col(\"cnt\").desc()).show()"
   ]
  }
 ],
 "metadata": {
  "kernelspec": {
   "display_name": "Kotlin",
   "language": "kotlin",
   "name": "kotlin"
  },
  "language_info": {
   "codemirror_mode": "text/x-kotlin",
   "file_extension": ".kt",
   "mimetype": "text/x-kotlin",
   "name": "kotlin",
   "pygments_lexer": "kotlin",
   "version": "1.5.0-dev-1206"
  }
 },
 "nbformat": 4,
 "nbformat_minor": 4
}

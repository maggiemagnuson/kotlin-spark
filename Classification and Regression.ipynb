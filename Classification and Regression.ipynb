{
 "cells": [
  {
   "cell_type": "code",
   "execution_count": 1,
   "metadata": {},
   "outputs": [],
   "source": [
    "%output --no-stdout"
   ]
  },
  {
   "cell_type": "code",
   "execution_count": 2,
   "metadata": {},
   "outputs": [],
   "source": [
    "@file:Repository(\"https://binrepo.target.com/artifactory/gradle\")\n",
    "@file:Repository(\"https://binrepo.target.com/artifactory/maven-central\")\n",
    "@file:Repository(\"https://binrepo.target.com/artifactory/jcenter\")\n",
    "@file:Repository(\"https://binrepo.target.com/artifactory/jitpack-maven\")\n",
    "@file:Repository(\"https://binrepo.target.com/artifactory/kotlin-maven\")\n",
    "@file:Repository(\"https://binrepo.target.com/artifactory/apache-maven\")\n",
    "@file:Repository(\"https://binrepo.target.com/artifactory/jitpack\")\n",
    "%use spark"
   ]
  },
  {
   "cell_type": "code",
   "execution_count": 3,
   "metadata": {},
   "outputs": [],
   "source": [
    "%output --reset-to-defaults\n",
    "@file:DependsOn(\"org.jetbrains.kotlinx.spark:kotlin-spark-api-3.0.0_2.12:1.0.0-preview1\")"
   ]
  },
  {
   "cell_type": "code",
   "execution_count": 4,
   "metadata": {},
   "outputs": [],
   "source": [
    "import org.jetbrains.kotlinx.spark.api.*\n",
    "import org.apache.spark.sql.functions.*\n",
    "import org.apache.spark.ml.evaluation.RegressionEvaluator\n",
    "import org.apache.spark.ml.recommendation.ALS\n",
    "import org.apache.spark.ml.tuning.CrossValidator\n",
    "import org.apache.spark.ml.tuning.ParamGridBuilder\n",
    "import org.apache.spark.ml.recommendation.ALSModel"
   ]
  },
  {
   "cell_type": "code",
   "execution_count": 5,
   "metadata": {},
   "outputs": [],
   "source": [
    "val ratingFile = \"data/ml-latest-small/ratings.csv\"\n",
    "val movieFile = \"data/ml-latest-small/movies.csv\"\n",
    "val linkFile = \"data/ml-latest-small/links.csv\"\n",
    "val tagFile = \"data/ml-latest-small/tags.csv\""
   ]
  },
  {
   "cell_type": "code",
   "execution_count": 6,
   "metadata": {},
   "outputs": [],
   "source": [
    "val spark = SparkSession\n",
    ".builder()\n",
    ".master(\"local[*]\")\n",
    ".appName(\"Recommender\").orCreate"
   ]
  },
  {
   "cell_type": "code",
   "execution_count": 7,
   "metadata": {},
   "outputs": [
    {
     "data": {
      "text/plain": [
       "org.apache.spark.sql.SparkSession@6954913f"
      ]
     },
     "execution_count": 7,
     "metadata": {
      "new_classpath": []
     },
     "output_type": "execute_result"
    }
   ],
   "source": [
    "spark"
   ]
  },
  {
   "cell_type": "code",
   "execution_count": 8,
   "metadata": {},
   "outputs": [],
   "source": [
    "val path = \"/Users/z001hqv/spark-3.0.1-bin-hadoop2.7/data/mllib/images/origin/kittens\""
   ]
  },
  {
   "cell_type": "code",
   "execution_count": 9,
   "metadata": {},
   "outputs": [],
   "source": [
    "val df = spark.read().format(\"image\")\n",
    ".option(\"dropInvalid\", true)\n",
    ".load(path)\n",
    ".select(\"image.origin\", \"image.height\", \"image.width\", \"image.nChannels\", \"image.mode\")"
   ]
  },
  {
   "cell_type": "code",
   "execution_count": 10,
   "metadata": {},
   "outputs": [
    {
     "name": "stdout",
     "output_type": "stream",
     "text": [
      "+--------------------------------------------------------------------------------------------------------+------+-----+---------+----+\n",
      "|origin                                                                                                  |height|width|nChannels|mode|\n",
      "+--------------------------------------------------------------------------------------------------------+------+-----+---------+----+\n",
      "|file:///Users/z001hqv/spark-3.0.1-bin-hadoop2.7/data/mllib/images/origin/kittens/54893.jpg              |311   |300  |3        |16  |\n",
      "|file:///Users/z001hqv/spark-3.0.1-bin-hadoop2.7/data/mllib/images/origin/kittens/DP802813.jpg           |313   |199  |3        |16  |\n",
      "|file:///Users/z001hqv/spark-3.0.1-bin-hadoop2.7/data/mllib/images/origin/kittens/29.5.a_b_EGDP022204.jpg|200   |300  |3        |16  |\n",
      "|file:///Users/z001hqv/spark-3.0.1-bin-hadoop2.7/data/mllib/images/origin/kittens/DP153539.jpg           |296   |300  |3        |16  |\n",
      "+--------------------------------------------------------------------------------------------------------+------+-----+---------+----+\n",
      "\n"
     ]
    }
   ],
   "source": [
    "df.show(false)"
   ]
  },
  {
   "cell_type": "code",
   "execution_count": 11,
   "metadata": {},
   "outputs": [],
   "source": [
    "val PATH = \"/Users/z001hqv/spark-3.0.1-bin-hadoop2.7/data/mllib/sample_libsvm_data.txt\""
   ]
  },
  {
   "cell_type": "code",
   "execution_count": 12,
   "metadata": {},
   "outputs": [],
   "source": [
    "val svm = spark.read().format(\"libsvm\").option(\"numFeatures\", 700).load(PATH)"
   ]
  },
  {
   "cell_type": "code",
   "execution_count": 13,
   "metadata": {},
   "outputs": [
    {
     "name": "stdout",
     "output_type": "stream",
     "text": [
      "+-----+--------------------+\n",
      "|label|            features|\n",
      "+-----+--------------------+\n",
      "|  0.0|(700,[127,128,129...|\n",
      "|  1.0|(700,[158,159,160...|\n",
      "|  1.0|(700,[124,125,126...|\n",
      "|  1.0|(700,[152,153,154...|\n",
      "|  1.0|(700,[151,152,153...|\n",
      "|  0.0|(700,[129,130,131...|\n",
      "|  1.0|(700,[158,159,160...|\n",
      "|  1.0|(700,[99,100,101,...|\n",
      "|  0.0|(700,[154,155,156...|\n",
      "|  0.0|(700,[127,128,129...|\n",
      "|  1.0|(700,[154,155,156...|\n",
      "|  0.0|(700,[153,154,155...|\n",
      "|  0.0|(700,[151,152,153...|\n",
      "|  1.0|(700,[129,130,131...|\n",
      "|  0.0|(700,[154,155,156...|\n",
      "|  1.0|(700,[150,151,152...|\n",
      "|  0.0|(700,[124,125,126...|\n",
      "|  0.0|(700,[152,153,154...|\n",
      "|  1.0|(700,[97,98,99,12...|\n",
      "|  1.0|(700,[124,125,126...|\n",
      "+-----+--------------------+\n",
      "only showing top 20 rows\n",
      "\n"
     ]
    }
   ],
   "source": [
    "svm.show()"
   ]
  },
  {
   "cell_type": "code",
   "execution_count": 7,
   "metadata": {},
   "outputs": [],
   "source": [
    "import org.apache.spark.ml.Pipeline\n",
    "import org.apache.spark.ml.classification.DecisionTreeClassifier\n",
    "import org.apache.spark.ml.feature.StringIndexer\n",
    "import org.apache.spark.ml.feature.VectorIndexer\n",
    "import org.apache.spark.ml.evaluation.MulticlassClassificationEvaluator"
   ]
  },
  {
   "cell_type": "code",
   "execution_count": 15,
   "metadata": {},
   "outputs": [],
   "source": [
    "// Stage 1\n",
    "val labelIndexer = StringIndexer().setInputCol(\"label\").setOutputCol(\"indexedLabel\").fit(svm)"
   ]
  },
  {
   "cell_type": "code",
   "execution_count": 16,
   "metadata": {},
   "outputs": [],
   "source": [
    "// Stage 2\n",
    "val featureIndexer = VectorIndexer().setInputCol(\"features\").setOutputCol(\"indexedFeatures\").setMaxCategories(4)\n",
    ".fit(svm)"
   ]
  },
  {
   "cell_type": "code",
   "execution_count": 17,
   "metadata": {},
   "outputs": [],
   "source": [
    "// Stage 3\n",
    "val decisionTreeClassifierModel = DecisionTreeClassifier()\n",
    "    .setLabelCol(\"indexedLabel\")\n",
    "    .setFeaturesCol(\"indexedFeatures\")"
   ]
  },
  {
   "cell_type": "code",
   "execution_count": 18,
   "metadata": {},
   "outputs": [],
   "source": [
    "// Create pipeline\n",
    "val pipeline = Pipeline().setStages(arrayOf(labelIndexer, featureIndexer, decisionTreeClassifierModel))"
   ]
  },
  {
   "cell_type": "code",
   "execution_count": 19,
   "metadata": {},
   "outputs": [],
   "source": [
    "val (trainingData, testData) = svm.randomSplit(doubleArrayOf(0.7, 0.3))"
   ]
  },
  {
   "cell_type": "code",
   "execution_count": 20,
   "metadata": {},
   "outputs": [],
   "source": [
    "val model = pipeline.fit(trainingData)"
   ]
  },
  {
   "cell_type": "code",
   "execution_count": 21,
   "metadata": {},
   "outputs": [],
   "source": [
    "val predictions = model.transform(testData)"
   ]
  },
  {
   "cell_type": "code",
   "execution_count": 22,
   "metadata": {},
   "outputs": [
    {
     "name": "stdout",
     "output_type": "stream",
     "text": [
      "+----------+------------+--------------------+\n",
      "|prediction|indexedLabel|            features|\n",
      "+----------+------------+--------------------+\n",
      "|       1.0|         1.0|(700,[122,123,148...|\n",
      "|       1.0|         1.0|(700,[123,124,125...|\n",
      "|       1.0|         1.0|(700,[124,125,126...|\n",
      "|       1.0|         1.0|(700,[125,126,127...|\n",
      "|       1.0|         1.0|(700,[126,127,128...|\n",
      "+----------+------------+--------------------+\n",
      "only showing top 5 rows\n",
      "\n"
     ]
    }
   ],
   "source": [
    "predictions.select(\"prediction\", \"indexedLabel\", \"features\").show(5)"
   ]
  },
  {
   "cell_type": "code",
   "execution_count": 23,
   "metadata": {},
   "outputs": [],
   "source": [
    "val evaluator = MulticlassClassificationEvaluator()\n",
    "    .setLabelCol(\"indexedLabel\")\n",
    "    .setPredictionCol(\"prediction\")\n",
    "    .setMetricName(\"accuracy\")"
   ]
  },
  {
   "cell_type": "code",
   "execution_count": 24,
   "metadata": {},
   "outputs": [],
   "source": [
    "val accuracy = evaluator.evaluate(predictions)"
   ]
  },
  {
   "cell_type": "code",
   "execution_count": 25,
   "metadata": {},
   "outputs": [
    {
     "name": "stdout",
     "output_type": "stream",
     "text": [
      "Test Error = 0.0\n"
     ]
    }
   ],
   "source": [
    "println(\"Test Error = ${1.0 - accuracy}\")"
   ]
  },
  {
   "cell_type": "code",
   "execution_count": 8,
   "metadata": {},
   "outputs": [],
   "source": [
    "val mlb = spark\n",
    "        .read()\n",
    "        .option(\"header\", \"true\")\n",
    "        .option(\"inferSchema\", \"true\")\n",
    "        .csv(\"data/players_v2.csv\")"
   ]
  },
  {
   "cell_type": "code",
   "execution_count": 196,
   "metadata": {},
   "outputs": [],
   "source": [
    "val mlb_hitting = spark\n",
    "    .read()\n",
    "    .option(\"header\", \"true\")\n",
    "    .option(\"inferSchema\", \"true\")\n",
    "    .csv(\"data/hitting.csv\")"
   ]
  },
  {
   "cell_type": "code",
   "execution_count": 197,
   "metadata": {},
   "outputs": [
    {
     "name": "stdout",
     "output_type": "stream",
     "text": [
      "+---------+---+-------------------+-------------------+-------------------+---+---+---+---+---+---+-----+---+---+---+---+-------------------+\n",
      "|player_id| bb|                avg|                slg|                ops| cs| sb| hr|rbi|lob|xbh|  obp|  h|  r| ab| so|              babip|\n",
      "+---------+---+-------------------+-------------------+-------------------+---+---+---+---+---+---+-----+---+---+---+---+-------------------+\n",
      "|   605113| 52|              0.254|              0.437|              0.753|  2|  8| 19| 82|239| 58|0.316|141| 79|556|113|               0.28|\n",
      "|   594777| 70|              0.232|              0.467|              0.792|  1|  4| 33| 74|245| 63|0.325|128| 92|552|162|              0.265|\n",
      "|   500871| 50|              0.269|              0.511|              0.831|  1|  5| 35|118|265| 74| 0.32|171| 94|636|130|              0.283|\n",
      "|   608348| 48|              0.245|              0.478|              0.826|  0|  0| 18| 47|141| 37|0.348| 77| 46|314| 79|              0.271|\n",
      "|   641796| 14|               0.25|               0.34|              0.697|  0| 17|  1| 17| 92| 15|0.357| 53| 38|212| 44|               0.31|\n",
      "|   606466| 53|              0.329|              0.592|              0.981|  2| 10| 32| 92|192| 77|0.389|187| 97|569| 86|              0.342|\n",
      "|   444482| 35|              0.275|              0.461|              0.804|  0|  0| 12| 57|151| 44|0.343|105| 48|382| 87|              0.327|\n",
      "|   668942| 18|              0.217|              0.312|              0.624|  2|  4|  2| 16| 67|  9|0.312| 30| 17|138| 41|              0.295|\n",
      "|   642165| 29|              0.237|              0.408|              0.735|  3|  9|  8| 23|108| 22|0.327| 54| 33|228| 56|              0.279|\n",
      "|   519390| 20|              0.263|               0.49|              0.804|  1|  3| 10| 40|119| 36|0.314| 67| 30|255| 66|              0.311|\n",
      "|   572233| 67|              0.259|              0.476|              0.825|  1|  8| 29| 73|241| 56|0.348|137| 86|529|155|              0.312|\n",
      "|   660670| 76|               0.28|              0.518|              0.883|  9| 37| 41|101|196| 65|0.365|175|127|626|188|              0.337|\n",
      "|   645277| 54|              0.295|                0.5|              0.852|  4| 15| 24| 86|209| 75|0.352|189|102|640|112|              0.325|\n",
      "|   501659|  7|               0.29|              0.548|              0.969|  0|  0|  1|  4| 18|  5|0.421|  9| 11| 31|  8|              0.364|\n",
      "|   622666| 15|              0.233|              0.384|              0.663|  0|  1|  7| 32| 94| 20|0.279| 54| 31|232| 43|              0.258|\n",
      "|   518595| 32|0.11666666666666665|0.18200000000000002|0.34299999999999997|  1|  0| 16| 69|150| 32|0.161| 88| 52|351| 85|0.13533333333333333|\n",
      "|   641513| 14|              0.225|              0.343|               0.63|  0|  3|  3| 10| 73| 12|0.286| 38| 24|169| 63|              0.337|\n",
      "|   518692| 87|              0.295|              0.549|              0.938|  3|  6| 38|121|210| 74|0.389|176|113|597|127|              0.318|\n",
      "|   542255| 26|              0.246|              0.397|               0.74|  1|  7|  5| 24| 86| 18|0.343| 49| 30|199| 41|              0.286|\n",
      "|   656577|  1|                0.0|                0.0|              0.133|  0|  0|  0|  0| 14|  0|0.133|  0|  0| 13|  5|                0.0|\n",
      "+---------+---+-------------------+-------------------+-------------------+---+---+---+---+---+---+-----+---+---+---+---+-------------------+\n",
      "only showing top 20 rows\n",
      "\n"
     ]
    }
   ],
   "source": [
    "mlb_hitting.show()"
   ]
  },
  {
   "cell_type": "code",
   "execution_count": 198,
   "metadata": {},
   "outputs": [],
   "source": [
    "val combined = mlb.join(mlb_hitting, \"player_id\")"
   ]
  },
  {
   "cell_type": "code",
   "execution_count": 199,
   "metadata": {},
   "outputs": [
    {
     "data": {
      "text/plain": [
       "381"
      ]
     },
     "execution_count": 199,
     "metadata": {
      "new_classpath": []
     },
     "output_type": "execute_result"
    }
   ],
   "source": [
    "combined.count()"
   ]
  },
  {
   "cell_type": "code",
   "execution_count": 233,
   "metadata": {},
   "outputs": [],
   "source": [
    "val labelAndFeatures = combined\n",
    "    .withColumn(\"position\", `when`(col(\"position_txt\").equalTo(\"CF\")\n",
    "            .or(col(\"position_txt\").equalTo(\"RF\"))\n",
    "            .or(col(\"position_txt\").equalTo(\"LF\")), \"OF\")\n",
    "            .otherwise(col(\"position_txt\")))\n",
    "    .withColumn(\"bats_mod\", `when`(col(\"bats\").equalTo(\"R\"), 0)\n",
    "    .`when`(col(\"bats\").equalTo(\"L\"), 1).otherwise(2))\n",
    "    .withColumn(\"throws_mod\", `when`(col(\"throws\").equalTo(\"R\"),0).otherwise(1))\n",
    "    .filter(col(\"position\").isInCollection(listOf(\"1B\", \"2B\", \"3B\", \"SS\", \"C\", \"OF\")).and(col(\"ab\").gt(250)))\n",
    "    .select(\"position\", \"hr\", \"slg\", \"bats_mod\", \"throws_mod\", \"height_in_inches\", \"weight\")"
   ]
  },
  {
   "cell_type": "code",
   "execution_count": 234,
   "metadata": {},
   "outputs": [
    {
     "name": "stdout",
     "output_type": "stream",
     "text": [
      "+--------+---+-----+--------+----------+----------------+------+\n",
      "|position| hr|  slg|bats_mod|throws_mod|height_in_inches|weight|\n",
      "+--------+---+-----+--------+----------+----------------+------+\n",
      "|      OF| 33|0.467|       1|         1|              70|   210|\n",
      "|      OF| 12|0.461|       1|         1|              73|   220|\n",
      "|      OF| 41|0.518|       0|         0|              72|   205|\n",
      "|      OF| 29|0.472|       0|         0|              73|   225|\n",
      "|      OF| 35|0.535|       0|         0|              76|   230|\n",
      "|      OF| 20|0.476|       2|         0|              74|   225|\n",
      "|      OF| 36|0.557|       0|         0|              75|   230|\n",
      "|      OF| 33|0.489|       0|         0|              73|   230|\n",
      "|      OF| 12|0.475|       1|         1|              72|   192|\n",
      "|      OF| 21|0.429|       1|         1|              77|   240|\n",
      "|      OF| 36|0.538|       1|         1|              73|   220|\n",
      "|      OF| 15|0.428|       1|         1|              69|   176|\n",
      "|      OF|  8|0.378|       2|         0|              68|   185|\n",
      "|      OF| 31|0.513|       0|         0|              76|   235|\n",
      "|      OF| 27|0.554|       0|         0|              76|   203|\n",
      "|      OF| 12|0.427|       0|         0|              73|   205|\n",
      "|      OF| 16|0.473|       1|         1|              75|   215|\n",
      "|      OF| 12|0.371|       1|         1|              73|   195|\n",
      "|      OF| 15|0.443|       0|         0|              74|   197|\n",
      "|      OF|  8|0.403|       1|         1|              71|   250|\n",
      "|      OF| 37|0.502|       0|         0|              77|   265|\n",
      "|      OF| 32|  0.5|       1|         0|              73|   180|\n",
      "|      OF| 32|0.576|       1|         1|              75|   221|\n",
      "|      OF| 20|0.479|       0|         0|              75|   217|\n",
      "|      OF|  9|0.415|       1|         1|              75|   175|\n",
      "|      OF|  6|0.348|       2|         1|              72|   216|\n",
      "|      OF| 11| 0.43|       0|         0|              74|   201|\n",
      "|      OF| 19|0.469|       1|         1|              76|   215|\n",
      "|      OF|  3|0.431|       2|         0|              77|   194|\n",
      "|      OF| 10|0.388|       1|         0|              72|   220|\n",
      "|      OF| 27|0.655|       1|         0|              77|   225|\n",
      "|      OF| 22|0.503|       1|         1|              74|   209|\n",
      "|      OF| 13|0.431|       1|         1|              69|   180|\n",
      "|      OF| 16|0.463|       0|         0|              73|   195|\n",
      "|      OF| 48|0.569|       0|         0|              76|   235|\n",
      "|      OF| 19|0.409|       2|         0|              77|   205|\n",
      "|      OF| 45|0.645|       0|         0|              74|   235|\n",
      "|      OF| 47|0.629|       1|         1|              76|   203|\n",
      "|      OF| 29|0.524|       0|         0|              69|   180|\n",
      "|      OF| 15|0.468|       0|         0|              73|   210|\n",
      "|      OF| 12|0.462|       0|         0|              73|   196|\n",
      "|      OF| 12|0.565|       1|         0|              73|   200|\n",
      "|      OF| 23|0.503|       0|         0|              73|   195|\n",
      "|      OF| 11|0.416|       0|         0|              70|   232|\n",
      "|      OF| 11|0.372|       0|         0|              74|   214|\n",
      "|      OF| 20|0.464|       0|         0|              76|   250|\n",
      "|      OF| 12|0.422|       1|         1|              73|   205|\n",
      "|      OF| 44|0.671|       1|         0|              75|   195|\n",
      "|      OF| 10|0.513|       0|         0|              74|   190|\n",
      "|      OF| 36|0.519|       1|         1|              76|   225|\n",
      "+--------+---+-----+--------+----------+----------------+------+\n",
      "only showing top 50 rows\n",
      "\n"
     ]
    }
   ],
   "source": [
    "labelAndFeatures.filter(col(\"position\").equalTo(\"OF\")).show(50)"
   ]
  },
  {
   "cell_type": "code",
   "execution_count": 235,
   "metadata": {},
   "outputs": [],
   "source": [
    "import org.apache.spark.ml.feature.VectorAssembler\n",
    "import org.apache.spark.ml.linalg.Vectors"
   ]
  },
  {
   "cell_type": "code",
   "execution_count": 236,
   "metadata": {},
   "outputs": [],
   "source": [
    "// Stage 1\n",
    "val labelIndexer = StringIndexer()\n",
    "    .setInputCol(\"position\")\n",
    "    .setOutputCol(\"indexedLabel\")"
   ]
  },
  {
   "cell_type": "code",
   "execution_count": 237,
   "metadata": {},
   "outputs": [],
   "source": [
    "// Stage 2\n",
    "val output = VectorAssembler()\n",
    "    .setInputCols(arrayOf(\"hr\", \"slg\", \"bats_mod\", \"throws_mod\", \"height_in_inches\", \"weight\"))\n",
    "    .setOutputCol(\"features\")"
   ]
  },
  {
   "cell_type": "code",
   "execution_count": 238,
   "metadata": {},
   "outputs": [],
   "source": [
    "// Stage 2\n",
    "val featureIndexer = VectorIndexer()\n",
    "    .setInputCol(\"features\")\n",
    "    .setOutputCol(\"indexedFeatures\")\n",
    "    .setMaxCategories(4)"
   ]
  },
  {
   "cell_type": "code",
   "execution_count": 239,
   "metadata": {},
   "outputs": [],
   "source": [
    "// Stage 4\n",
    "val decisionTreeClassifierModel = DecisionTreeClassifier()\n",
    "    .setLabelCol(\"indexedLabel\")\n",
    "    .setFeaturesCol(\"indexedFeatures\")"
   ]
  },
  {
   "cell_type": "code",
   "execution_count": 240,
   "metadata": {},
   "outputs": [],
   "source": [
    "// Create pipeline\n",
    "val pipeline = Pipeline().setStages(arrayOf(labelIndexer, output, featureIndexer, decisionTreeClassifierModel))"
   ]
  },
  {
   "cell_type": "code",
   "execution_count": 241,
   "metadata": {},
   "outputs": [],
   "source": [
    "val (trainingData, testData) = labelAndFeatures.na().drop().randomSplit(doubleArrayOf(0.7, 0.3))"
   ]
  },
  {
   "cell_type": "code",
   "execution_count": 242,
   "metadata": {},
   "outputs": [
    {
     "data": {
      "text/plain": [
       "64"
      ]
     },
     "execution_count": 242,
     "metadata": {
      "new_classpath": []
     },
     "output_type": "execute_result"
    }
   ],
   "source": [
    "testData.count()"
   ]
  },
  {
   "cell_type": "code",
   "execution_count": 243,
   "metadata": {},
   "outputs": [],
   "source": [
    "val model = pipeline.fit(trainingData)"
   ]
  },
  {
   "cell_type": "code",
   "execution_count": 244,
   "metadata": {},
   "outputs": [],
   "source": [
    "val predictions = model.transform(testData)"
   ]
  },
  {
   "cell_type": "code",
   "execution_count": 245,
   "metadata": {},
   "outputs": [
    {
     "name": "stdout",
     "output_type": "stream",
     "text": [
      "+----------+------------+--------------------+\n",
      "|prediction|indexedLabel|            features|\n",
      "+----------+------------+--------------------+\n",
      "|       0.0|         4.0|[12.0,0.399,0.0,0...|\n",
      "|       0.0|         4.0|[15.0,0.411,1.0,0...|\n",
      "|       0.0|         4.0|[21.0,0.449,1.0,1...|\n",
      "|       0.0|         4.0|[23.0,0.43,0.0,0....|\n",
      "|       0.0|         4.0|[29.0,0.476,0.0,0...|\n",
      "|       0.0|         4.0|[33.0,0.503,0.0,0...|\n",
      "|       0.0|         4.0|[37.0,0.569,2.0,0...|\n",
      "|       0.0|         4.0|[53.0,0.583,0.0,0...|\n",
      "|       2.0|         3.0|[2.0,0.321,2.0,0....|\n",
      "|       0.0|         3.0|[9.0,0.487,0.0,0....|\n",
      "+----------+------------+--------------------+\n",
      "only showing top 10 rows\n",
      "\n"
     ]
    }
   ],
   "source": [
    "predictions.select(\"prediction\", \"indexedLabel\", \"features\").show(10)"
   ]
  },
  {
   "cell_type": "code",
   "execution_count": 246,
   "metadata": {},
   "outputs": [],
   "source": [
    "val evaluator = MulticlassClassificationEvaluator()\n",
    "    .setLabelCol(\"indexedLabel\")\n",
    "    .setPredictionCol(\"prediction\")\n",
    "    .setMetricName(\"accuracy\")"
   ]
  },
  {
   "cell_type": "code",
   "execution_count": 247,
   "metadata": {},
   "outputs": [],
   "source": [
    "val accuracy = evaluator.evaluate(predictions)"
   ]
  },
  {
   "cell_type": "code",
   "execution_count": 248,
   "metadata": {},
   "outputs": [
    {
     "name": "stdout",
     "output_type": "stream",
     "text": [
      "Test Error = 0.5625\n"
     ]
    }
   ],
   "source": [
    "println(\"Test Error = ${1.0 - accuracy}\")"
   ]
  },
  {
   "cell_type": "code",
   "execution_count": 249,
   "metadata": {},
   "outputs": [
    {
     "data": {
      "text/plain": [
       "0.4375"
      ]
     },
     "execution_count": 249,
     "metadata": {
      "new_classpath": []
     },
     "output_type": "execute_result"
    }
   ],
   "source": [
    "accuracy"
   ]
  },
  {
   "cell_type": "code",
   "execution_count": 192,
   "metadata": {},
   "outputs": [
    {
     "data": {
      "text/plain": [
       "14"
      ]
     },
     "execution_count": 192,
     "metadata": {
      "new_classpath": []
     },
     "output_type": "execute_result"
    }
   ],
   "source": [
    "predictions.select(\"*\").filter(col(\"prediction\").equalTo(col(\"indexedLabel\"))).count()"
   ]
  },
  {
   "cell_type": "code",
   "execution_count": 193,
   "metadata": {},
   "outputs": [
    {
     "data": {
      "text/plain": [
       "45"
      ]
     },
     "execution_count": 193,
     "metadata": {
      "new_classpath": []
     },
     "output_type": "execute_result"
    }
   ],
   "source": [
    "predictions.count()"
   ]
  },
  {
   "cell_type": "code",
   "execution_count": null,
   "metadata": {},
   "outputs": [],
   "source": []
  }
 ],
 "metadata": {
  "kernelspec": {
   "display_name": "Kotlin",
   "language": "kotlin",
   "name": "kotlin"
  },
  "language_info": {
   "codemirror_mode": "text/x-kotlin",
   "file_extension": ".kt",
   "mimetype": "text/x-kotlin",
   "name": "kotlin",
   "pygments_lexer": "kotlin",
   "version": "1.5.0-dev-1206"
  }
 },
 "nbformat": 4,
 "nbformat_minor": 4
}

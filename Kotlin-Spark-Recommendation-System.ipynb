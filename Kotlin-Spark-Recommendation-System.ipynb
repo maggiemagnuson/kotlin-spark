{
 "cells": [
  {
   "cell_type": "code",
   "execution_count": 1,
   "metadata": {},
   "outputs": [],
   "source": [
    "%output --no-stdout"
   ]
  },
  {
   "cell_type": "code",
   "execution_count": 2,
   "metadata": {},
   "outputs": [],
   "source": [
    "@file:Repository(\"https://binrepo.target.com/artifactory/gradle\")\n",
    "@file:Repository(\"https://binrepo.target.com/artifactory/maven-central\")\n",
    "@file:Repository(\"https://binrepo.target.com/artifactory/jcenter\")\n",
    "@file:Repository(\"https://binrepo.target.com/artifactory/jitpack-maven\")\n",
    "@file:Repository(\"https://binrepo.target.com/artifactory/kotlin-maven\")\n",
    "@file:Repository(\"https://binrepo.target.com/artifactory/apache-maven\")\n",
    "@file:Repository(\"https://binrepo.target.com/artifactory/jitpack\")\n",
    "%use spark"
   ]
  },
  {
   "cell_type": "code",
   "execution_count": 3,
   "metadata": {},
   "outputs": [],
   "source": [
    "%output --reset-to-defaults\n",
    "@file:DependsOn(\"org.jetbrains.kotlinx.spark:kotlin-spark-api-3.0.0_2.12:1.0.0-preview1\")"
   ]
  },
  {
   "cell_type": "code",
   "execution_count": 4,
   "metadata": {},
   "outputs": [],
   "source": [
    "import org.jetbrains.kotlinx.spark.api.*\n",
    "import org.apache.spark.sql.functions.*\n",
    "import org.apache.spark.ml.evaluation.RegressionEvaluator\n",
    "import org.apache.spark.ml.recommendation.ALS\n",
    "import org.apache.spark.ml.tuning.CrossValidator\n",
    "import org.apache.spark.ml.tuning.ParamGridBuilder\n",
    "import org.apache.spark.ml.recommendation.ALSModel"
   ]
  },
  {
   "cell_type": "code",
   "execution_count": 5,
   "metadata": {},
   "outputs": [],
   "source": [
    "val ratingFile = \"data/ml-latest-small/ratings.csv\"\n",
    "val movieFile = \"data/ml-latest-small/movies.csv\"\n",
    "val linkFile = \"data/ml-latest-small/links.csv\"\n",
    "val tagFile = \"data/ml-latest-small/tags.csv\""
   ]
  },
  {
   "cell_type": "code",
   "execution_count": 6,
   "metadata": {},
   "outputs": [],
   "source": [
    "val spark = SparkSession\n",
    ".builder()\n",
    ".master(\"local[*]\")\n",
    ".appName(\"Recommender\").orCreate"
   ]
  },
  {
   "cell_type": "code",
   "execution_count": 7,
   "metadata": {},
   "outputs": [],
   "source": [
    "val ratings = spark\n",
    "        .read()\n",
    "        .option(\"header\", \"true\")\n",
    "        .option(\"inferSchema\", \"true\")\n",
    "        .csv(ratingFile)\n",
    "        .select(\"userId\", \"movieId\", \"rating\")"
   ]
  },
  {
   "cell_type": "code",
   "execution_count": 8,
   "metadata": {},
   "outputs": [],
   "source": [
    "val movies = spark\n",
    "        .read()\n",
    "        .option(\"header\", \"true\")\n",
    "        .option(\"inferSchema\", \"true\")\n",
    "        .csv(movieFile)\n",
    "        .withColumn(\"release_year\", regexp_extract(col(\"title\"), \"\\\\s?\\\\((\\\\d{4})\\\\)\", 1))\n",
    "        .withColumn(\"title\", regexp_replace(col(\"title\"), \"\\\\s?\\\\((\\\\d)\\\\)\", \"\"))\n",
    "        .withColumn(\"genres\", split(col(\"genres\"), \"\\\\|\"))\n"
   ]
  },
  {
   "cell_type": "code",
   "execution_count": 9,
   "metadata": {},
   "outputs": [
    {
     "name": "stdout",
     "output_type": "stream",
     "text": [
      "+-------+--------------------+--------------------+------------+\n",
      "|movieId|               title|              genres|release_year|\n",
      "+-------+--------------------+--------------------+------------+\n",
      "|      1|    Toy Story (1995)|[Adventure, Anima...|        1995|\n",
      "|      2|      Jumanji (1995)|[Adventure, Child...|        1995|\n",
      "|      3|Grumpier Old Men ...|   [Comedy, Romance]|        1995|\n",
      "|      4|Waiting to Exhale...|[Comedy, Drama, R...|        1995|\n",
      "|      5|Father of the Bri...|            [Comedy]|        1995|\n",
      "+-------+--------------------+--------------------+------------+\n",
      "only showing top 5 rows\n",
      "\n"
     ]
    }
   ],
   "source": [
    "movies.show(5)"
   ]
  },
  {
   "cell_type": "code",
   "execution_count": 10,
   "metadata": {},
   "outputs": [],
   "source": [
    "val als = ALS()\n",
    "    .setUserCol(\"userId\")\n",
    "    .setRatingCol(\"rating\")\n",
    "    .setItemCol(\"movieId\")\n",
    "    .setRank(1)\n",
    "    .setMaxIter(20)\n",
    "    .setRegParam(0.05)"
   ]
  },
  {
   "cell_type": "code",
   "execution_count": 11,
   "metadata": {},
   "outputs": [],
   "source": [
    "val (trainingData, validationData) = ratings.randomSplit(doubleArrayOf(80.0, 20.0))"
   ]
  },
  {
   "cell_type": "code",
   "execution_count": 12,
   "metadata": {},
   "outputs": [],
   "source": [
    "val model = als.fit(trainingData)"
   ]
  },
  {
   "cell_type": "code",
   "execution_count": 13,
   "metadata": {},
   "outputs": [],
   "source": [
    "val evaluator = RegressionEvaluator()\n",
    "    .setMetricName(\"rmse\")\n",
    "    .setLabelCol(\"rating\")\n",
    "    .setPredictionCol(\"prediction\")"
   ]
  },
  {
   "cell_type": "code",
   "execution_count": 14,
   "metadata": {},
   "outputs": [],
   "source": [
    "val predictions = model.transform(validationData).na().drop()"
   ]
  },
  {
   "cell_type": "code",
   "execution_count": 15,
   "metadata": {},
   "outputs": [
    {
     "name": "stdout",
     "output_type": "stream",
     "text": [
      "rmse for model als_15127ddc2f29: 0.8849702711740748\n"
     ]
    }
   ],
   "source": [
    "println(\"rmse for model $model: ${evaluator.evaluate(predictions)}\")"
   ]
  },
  {
   "cell_type": "code",
   "execution_count": 16,
   "metadata": {},
   "outputs": [
    {
     "name": "stdout",
     "output_type": "stream",
     "text": [
      "+------+-------+------+----------+\n",
      "|userId|movieId|rating|prediction|\n",
      "+------+-------+------+----------+\n",
      "|   597|    471|   2.0| 4.0000463|\n",
      "|   436|    471|   3.0| 3.4843132|\n",
      "|   176|    471|   5.0| 4.2127733|\n",
      "|   136|    471|   4.0| 3.7279785|\n",
      "|   469|    471|   5.0| 3.5710912|\n",
      "+------+-------+------+----------+\n",
      "only showing top 5 rows\n",
      "\n"
     ]
    }
   ],
   "source": [
    "predictions.show(5)"
   ]
  },
  {
   "cell_type": "code",
   "execution_count": 29,
   "metadata": {},
   "outputs": [],
   "source": [
    "val USER_ID = 133"
   ]
  },
  {
   "cell_type": "code",
   "execution_count": null,
   "metadata": {},
   "outputs": [],
   "source": [
    "val recAllUsers = model.recommendForAllUsers(5).cache()"
   ]
  },
  {
   "cell_type": "code",
   "execution_count": null,
   "metadata": {},
   "outputs": [],
   "source": [
    "recAllUsers.show(20, false)"
   ]
  },
  {
   "cell_type": "code",
   "execution_count": null,
   "metadata": {},
   "outputs": [],
   "source": [
    "val recommendationsForUser = recAllUsers.filter(\"userId == $USER_ID\")\n",
    "    .withColumn(\"rec\", explode(col(\"recommendations\")))\n",
    "    .select(col(\"userId\"), col(\"rec.movieId\").alias(\"movieId\"), col(\"rec.rating\").alias(\"rating\"))\n",
    "    .join(movies, \"movieId\")\n",
    "    .orderBy(desc(\"rating\"))\n",
    "    .select(\"userId\", \"movieId\", \"title\", \"release_year\")"
   ]
  },
  {
   "cell_type": "code",
   "execution_count": null,
   "metadata": {},
   "outputs": [],
   "source": [
    "recommendationsForUser.show()"
   ]
  },
  {
   "cell_type": "code",
   "execution_count": 35,
   "metadata": {},
   "outputs": [
    {
     "name": "stdout",
     "output_type": "stream",
     "text": [
      "+------+-------+------------------------------------------------------------------------+------------+\n",
      "|userId|movieId|title                                                                   |release_year|\n",
      "+------+-------+------------------------------------------------------------------------+------------+\n",
      "|133   |5919   |Android (1982)                                                          |1982        |\n",
      "|133   |5181   |Hangar 18 (1980)                                                        |1980        |\n",
      "|133   |6835   |Alien Contamination (1980)                                              |1980        |\n",
      "|133   |5746   |Galaxy of Terror (Quest) (1981)                                         |1981        |\n",
      "|133   |7899   |Master of the Flying Guillotine (Du bi quan wang da po xue di zi) (1975)|1975        |\n",
      "|133   |136850 |Villain (1971)                                                          |1971        |\n",
      "|133   |3567   |Bossa Nova (2000)                                                       |2000        |\n",
      "|133   |142422 |The Night Before (2015)                                                 |2015        |\n",
      "|133   |26810  |Bad Boy Bubby (1993)                                                    |1993        |\n",
      "|133   |8477   |Jetée, La (1962)                                                        |1962        |\n",
      "+------+-------+------------------------------------------------------------------------+------------+\n",
      "\n"
     ]
    }
   ],
   "source": [
    "val subset = ratings.filter(\"userId == $USER_ID\").select(\"userId\")\n",
    "val recSubset = model.recommendForUserSubset(subset, 10)\n",
    "recSubset\n",
    "    .withColumn(\"rec\", explode(col(\"recommendations\")))\n",
    "    .select(col(\"userId\"), col(\"rec.movieId\").alias(\"movieId\"), col(\"rec.rating\").alias(\"rating\"))\n",
    "    .join(movies, \"movieId\")\n",
    "    .orderBy(col(\"rating\").desc())\n",
    "    .select(\"userId\", \"movieId\", \"title\", \"release_year\").show(10, false)"
   ]
  },
  {
   "cell_type": "code",
   "execution_count": 104,
   "metadata": {},
   "outputs": [],
   "source": [
    "val userIds = ratings.select(\"userId\").distinct().takeAsList(5).map { it[0].toString().toInt() }"
   ]
  },
  {
   "cell_type": "code",
   "execution_count": 124,
   "metadata": {},
   "outputs": [],
   "source": [
    "val subset = ratings.filter(col(\"userId\").isInCollection(userIds))\n",
    "val recSubset = model.recommendForUserSubset(subset, 5)"
   ]
  },
  {
   "cell_type": "code",
   "execution_count": 37,
   "metadata": {},
   "outputs": [
    {
     "name": "stdout",
     "output_type": "stream",
     "text": [
      "+------+--------------------+\n",
      "|userId|     recommendations|\n",
      "+------+--------------------+\n",
      "|   133|[[6835, 6.3902907...|\n",
      "+------+--------------------+\n",
      "\n"
     ]
    }
   ],
   "source": [
    "recSubset.show()"
   ]
  },
  {
   "cell_type": "code",
   "execution_count": 140,
   "metadata": {},
   "outputs": [],
   "source": [
    "fun recommender(ratings: Dataset<Row>, movies: Dataset<Row>, users: List<Int>, model: ALSModel ): Dataset<Row> {\n",
    "    val subset = ratings.filter(col(\"userId\").isInCollection(users))\n",
    "    val recSubset = model.recommendForUserSubset(subset, 5).withColumn(\"rec\", explode(col(\"recommendations\")))\n",
    "    return recSubset\n",
    "    .select(col(\"userId\"), col(\"rec.movieId\").alias(\"movieId\"), col(\"rec.rating\").alias(\"rating\"))\n",
    "    .join(movies, \"movieId\")\n",
    "    .orderBy(col(\"rating\").desc())\n",
    "    .select(\"userId\", \"movieId\", \"title\", \"release_year\")\n",
    "}"
   ]
  },
  {
   "cell_type": "code",
   "execution_count": 143,
   "metadata": {},
   "outputs": [
    {
     "name": "stdout",
     "output_type": "stream",
     "text": [
      "+------+-------+--------------------+------------+\n",
      "|userId|movieId|               title|release_year|\n",
      "+------+-------+--------------------+------------+\n",
      "|   496|  40491|Match Factory Gir...|        1990|\n",
      "|   496|   5746|Galaxy of Terror ...|        1981|\n",
      "|   496| 136850|      Villain (1971)|        1971|\n",
      "|   496|   5764|       Looker (1981)|        1981|\n",
      "|   496| 156605|            Paterson|            |\n",
      "|   471|   5746|Galaxy of Terror ...|        1981|\n",
      "|   471| 156605|            Paterson|            |\n",
      "|   471|   5764|       Looker (1981)|        1981|\n",
      "|   471| 136850|      Villain (1971)|        1971|\n",
      "|   471|  40491|Match Factory Gir...|        1990|\n",
      "|   463|   5764|       Looker (1981)|        1981|\n",
      "|   463|  40491|Match Factory Gir...|        1990|\n",
      "|   463| 136850|      Villain (1971)|        1971|\n",
      "|   463|   5746|Galaxy of Terror ...|        1981|\n",
      "|   463| 156605|            Paterson|            |\n",
      "|   243| 136850|      Villain (1971)|        1971|\n",
      "|   243|   5764|       Looker (1981)|        1981|\n",
      "|   243|  40491|Match Factory Gir...|        1990|\n",
      "|   243|   5746|Galaxy of Terror ...|        1981|\n",
      "|   243| 156605|            Paterson|            |\n",
      "+------+-------+--------------------+------------+\n",
      "only showing top 20 rows\n",
      "\n"
     ]
    }
   ],
   "source": [
    "recommender(ratings, movies, userIds, model).orderBy(col(\"userId\").desc()).show()"
   ]
  },
  {
   "cell_type": "code",
   "execution_count": 149,
   "metadata": {},
   "outputs": [],
   "source": [
    "val userId = 150\n",
    "val moviesToBeRated = ratings\n",
    "    .filter(\"userId != $userId\")\n",
    "    .select(\"movieId\").distinct()\n",
    "    .withColumn(\"userId\", org.jetbrains.kotlinx.spark.api.lit(userId))"
   ]
  },
  {
   "cell_type": "code",
   "execution_count": 150,
   "metadata": {},
   "outputs": [],
   "source": [
    "val userMoviePredictions = model.transform(moviesToBeRated)"
   ]
  },
  {
   "cell_type": "code",
   "execution_count": 151,
   "metadata": {},
   "outputs": [
    {
     "name": "stdout",
     "output_type": "stream",
     "text": [
      "+-------+------+\n",
      "|movieId|userId|\n",
      "+-------+------+\n",
      "|   1580|   150|\n",
      "|   2366|   150|\n",
      "|   3175|   150|\n",
      "|   1088|   150|\n",
      "|  32460|   150|\n",
      "|  44022|   150|\n",
      "|  96488|   150|\n",
      "|   1238|   150|\n",
      "|   1342|   150|\n",
      "|   1591|   150|\n",
      "|   1645|   150|\n",
      "|   4519|   150|\n",
      "|   2142|   150|\n",
      "|    471|   150|\n",
      "|   3997|   150|\n",
      "|    833|   150|\n",
      "|   3918|   150|\n",
      "|   7982|   150|\n",
      "|   1959|   150|\n",
      "|  68135|   150|\n",
      "+-------+------+\n",
      "only showing top 20 rows\n",
      "\n"
     ]
    }
   ],
   "source": [
    "moviesToBeRated.show()"
   ]
  },
  {
   "cell_type": "code",
   "execution_count": 152,
   "metadata": {},
   "outputs": [
    {
     "name": "stdout",
     "output_type": "stream",
     "text": [
      "+-------+------+----------+\n",
      "|movieId|userId|prediction|\n",
      "+-------+------+----------+\n",
      "|    148|   150|       NaN|\n",
      "|    471|   150|  3.621155|\n",
      "|    496|   150| 4.8066044|\n",
      "|    833|   150| 2.1831114|\n",
      "|   1088|   150|  3.383536|\n",
      "|   1238|   150| 4.2309546|\n",
      "|   1342|   150|  2.945063|\n",
      "|   1580|   150| 3.4715548|\n",
      "|   1591|   150|  2.869746|\n",
      "|   1645|   150| 3.4382815|\n",
      "|   1829|   150| 2.8945067|\n",
      "|   1959|   150| 3.6811256|\n",
      "|   2122|   150|  2.601224|\n",
      "|   2142|   150| 2.8842258|\n",
      "|   2366|   150| 3.6085236|\n",
      "|   2659|   150|  1.811464|\n",
      "|   2866|   150| 3.5963805|\n",
      "|   3175|   150|  3.564415|\n",
      "|   3794|   150|  2.394155|\n",
      "|   3918|   150|  3.063353|\n",
      "+-------+------+----------+\n",
      "only showing top 20 rows\n",
      "\n"
     ]
    }
   ],
   "source": [
    "userMoviePredictions.show()"
   ]
  },
  {
   "cell_type": "code",
   "execution_count": 156,
   "metadata": {},
   "outputs": [],
   "source": [
    "val recommendForUser = userMoviePredictions.na().drop().orderBy(col(\"prediction\").desc()).limit(5).join(movies, \"movieId\")\n",
    ".select(col(\"userId\"), col(\"movieId\"), col(\"title\"), col(\"release_year\"), col(\"prediction\").alias(\"rating\"))\n",
    "    "
   ]
  },
  {
   "cell_type": "code",
   "execution_count": 158,
   "metadata": {},
   "outputs": [
    {
     "name": "stdout",
     "output_type": "stream",
     "text": [
      "+------+-------+-------------------------------------------------------+------------+--------+\n",
      "|userId|movieId|title                                                  |release_year|rating  |\n",
      "+------+-------+-------------------------------------------------------+------------+--------+\n",
      "|150   |5746   |Galaxy of Terror (Quest) (1981)                        |1981        |8.373725|\n",
      "|150   |5764   |Looker (1981)                                          |1981        |7.536352|\n",
      "|150   |40491  |Match Factory Girl, The (Tulitikkutehtaan tyttö) (1990)|1990        |7.452832|\n",
      "|150   |136850 |Villain (1971)                                         |1971        |7.304771|\n",
      "|150   |143367 |Silence (2016)                                         |2016        |6.707549|\n",
      "+------+-------+-------------------------------------------------------+------------+--------+\n",
      "\n"
     ]
    }
   ],
   "source": [
    "recommendForUser.show(5, false)"
   ]
  },
  {
   "cell_type": "code",
   "execution_count": 25,
   "metadata": {},
   "outputs": [],
   "source": [
    "fun recommendMovies(model: ALSModel, ratings: Dataset<Row>, movies: Dataset<Row>, user: Int, nbRecommendations: Int): Dataset<Row?>? {\n",
    "    val dataSet = ratings.select(\"movieId\").distinct().withColumn(\"userId\", org.jetbrains.kotlinx.spark.api.lit(user))\n",
    "    \n",
    "    val moviesAlreadyRated = ratings.filter(\"userId == $user\").select(col(\"movieId\"), col(\"userId\"))\n",
    "    \n",
    "    val notRated = dataSet.exceptAll(moviesAlreadyRated) \n",
    "    \n",
    "    val predictions = model.transform(notRated)\n",
    "            .na()\n",
    "            .drop()\n",
    "            .orderBy(col(\"prediction\").desc())\n",
    "            .limit(nbRecommendations)\n",
    "            .select(col(\"movieId\"), col(\"prediction\"))\n",
    "    \n",
    "    val recommendations = predictions.join(movies, \"movieId\").select(col(\"movieId\"), col(\"title\"), col(\"genres\"), col(\"prediction\"))\n",
    "    \n",
    "    return recommendations\n",
    "}"
   ]
  },
  {
   "cell_type": "code",
   "execution_count": 27,
   "metadata": {},
   "outputs": [
    {
     "name": "stdout",
     "output_type": "stream",
     "text": [
      "+-------+--------------------+--------------------+----------+\n",
      "|movieId|               title|              genres|prediction|\n",
      "+-------+--------------------+--------------------+----------+\n",
      "|   3567|   Bossa Nova (2000)|[Comedy, Drama, R...|  5.308017|\n",
      "|   5181|    Hangar 18 (1980)|[Action, Sci-Fi, ...| 6.3902907|\n",
      "|   5746|Galaxy of Terror ...|[Action, Horror, ...| 6.3902907|\n",
      "|   5919|      Android (1982)|            [Sci-Fi]| 6.3902907|\n",
      "|   6835|Alien Contaminati...|[Action, Horror, ...| 6.3902907|\n",
      "|   7899|Master of the Fly...|            [Action]| 5.7512617|\n",
      "|   8477|    Jetée, La (1962)|   [Romance, Sci-Fi]|  4.793838|\n",
      "|  26810|Bad Boy Bubby (1993)|             [Drama]|  5.036862|\n",
      "| 136850|      Villain (1971)|[Crime, Drama, Th...|  5.661717|\n",
      "| 142422|The Night Before ...|            [Comedy]|  5.230884|\n",
      "+-------+--------------------+--------------------+----------+\n",
      "\n"
     ]
    }
   ],
   "source": [
    "recommendMovies(model, ratings, movies, 133, 10)?.show()"
   ]
  },
  {
   "cell_type": "code",
   "execution_count": 13,
   "metadata": {},
   "outputs": [],
   "source": [
    "val dataSet = ratings.select(\"movieId\").distinct().withColumn(\"userId\", org.jetbrains.kotlinx.spark.api.lit(133))"
   ]
  },
  {
   "cell_type": "code",
   "execution_count": 15,
   "metadata": {},
   "outputs": [
    {
     "name": "stdout",
     "output_type": "stream",
     "text": [
      "+-------+------+\n",
      "|movieId|userId|\n",
      "+-------+------+\n",
      "|   1580|   133|\n",
      "+-------+------+\n",
      "only showing top 1 row\n",
      "\n"
     ]
    }
   ],
   "source": [
    "dataSet.show(1)"
   ]
  },
  {
   "cell_type": "code",
   "execution_count": 17,
   "metadata": {},
   "outputs": [],
   "source": [
    "val moviesAlreadyRated = ratings.filter(\"userId == 133\").select(col(\"movieId\"), col(\"userId\"))"
   ]
  },
  {
   "cell_type": "code",
   "execution_count": 19,
   "metadata": {},
   "outputs": [
    {
     "name": "stdout",
     "output_type": "stream",
     "text": [
      "+-------+------+\n",
      "|movieId|userId|\n",
      "+-------+------+\n",
      "|     32|   133|\n",
      "+-------+------+\n",
      "only showing top 1 row\n",
      "\n"
     ]
    }
   ],
   "source": [
    "moviesAlreadyRated.show(1)"
   ]
  },
  {
   "cell_type": "code",
   "execution_count": 20,
   "metadata": {},
   "outputs": [],
   "source": [
    "val notRated = dataSet.exceptAll(moviesAlreadyRated)"
   ]
  },
  {
   "cell_type": "code",
   "execution_count": 21,
   "metadata": {},
   "outputs": [
    {
     "name": "stdout",
     "output_type": "stream",
     "text": [
      "+-------+------+\n",
      "|movieId|userId|\n",
      "+-------+------+\n",
      "|   4624|   133|\n",
      "|  33132|   133|\n",
      "|   6300|   133|\n",
      "|  33679|   133|\n",
      "| 158254|   133|\n",
      "+-------+------+\n",
      "only showing top 5 rows\n",
      "\n"
     ]
    }
   ],
   "source": [
    "notRated.show(5)"
   ]
  },
  {
   "cell_type": "code",
   "execution_count": 22,
   "metadata": {},
   "outputs": [],
   "source": [
    "val predictions = model.transform(notRated)\n",
    "            .na()\n",
    "            .drop()\n",
    "            .orderBy(col(\"prediction\").desc())\n",
    "            .limit(10)\n",
    "            .select(col(\"movieId\"), col(\"prediction\"))"
   ]
  },
  {
   "cell_type": "code",
   "execution_count": 23,
   "metadata": {},
   "outputs": [
    {
     "name": "stdout",
     "output_type": "stream",
     "text": [
      "+-------+----------+\n",
      "|movieId|prediction|\n",
      "+-------+----------+\n",
      "|   6835| 6.3902907|\n",
      "|   5919| 6.3902907|\n",
      "|   5181| 6.3902907|\n",
      "|   5746| 6.3902907|\n",
      "|   7899| 5.7512617|\n",
      "+-------+----------+\n",
      "only showing top 5 rows\n",
      "\n"
     ]
    }
   ],
   "source": [
    "predictions.show(5)"
   ]
  },
  {
   "cell_type": "code",
   "execution_count": 24,
   "metadata": {},
   "outputs": [
    {
     "name": "stdout",
     "output_type": "stream",
     "text": [
      "+-------+--------------------+--------------------+----------+\n",
      "|movieId|               title|              genres|prediction|\n",
      "+-------+--------------------+--------------------+----------+\n",
      "|   3567|   Bossa Nova (2000)|[Comedy, Drama, R...|  5.308017|\n",
      "|   5181|    Hangar 18 (1980)|[Action, Sci-Fi, ...| 6.3902907|\n",
      "|   5746|Galaxy of Terror ...|[Action, Horror, ...| 6.3902907|\n",
      "|   5919|      Android (1982)|            [Sci-Fi]| 6.3902907|\n",
      "|   6835|Alien Contaminati...|[Action, Horror, ...| 6.3902907|\n",
      "|   7899|Master of the Fly...|            [Action]| 5.7512617|\n",
      "|   8477|    Jetée, La (1962)|   [Romance, Sci-Fi]|  4.793838|\n",
      "|  26810|Bad Boy Bubby (1993)|             [Drama]|  5.036862|\n",
      "| 136850|      Villain (1971)|[Crime, Drama, Th...|  5.661717|\n",
      "| 142422|The Night Before ...|            [Comedy]|  5.230884|\n",
      "+-------+--------------------+--------------------+----------+\n",
      "\n"
     ]
    }
   ],
   "source": [
    "predictions.join(movies, \"movieId\").select(col(\"movieId\"), col(\"title\"), col(\"genres\"), col(\"prediction\")).show()"
   ]
  },
  {
   "cell_type": "code",
   "execution_count": null,
   "metadata": {},
   "outputs": [],
   "source": []
  }
 ],
 "metadata": {
  "kernelspec": {
   "display_name": "Kotlin",
   "language": "kotlin",
   "name": "kotlin"
  },
  "language_info": {
   "codemirror_mode": "text/x-kotlin",
   "file_extension": ".kt",
   "mimetype": "text/x-kotlin",
   "name": "kotlin",
   "pygments_lexer": "kotlin",
   "version": "1.5.0-dev-1206"
  }
 },
 "nbformat": 4,
 "nbformat_minor": 4
}
